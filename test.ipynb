{
 "cells": [
  {
   "cell_type": "code",
   "execution_count": 11,
   "metadata": {},
   "outputs": [
    {
     "name": "stdout",
     "output_type": "stream",
     "text": [
      "<class 'pandas.core.frame.DataFrame'>\n",
      "RangeIndex: 49 entries, 0 to 48\n",
      "Data columns (total 12 columns):\n",
      " #   Column                      Non-Null Count  Dtype \n",
      "---  ------                      --------------  ----- \n",
      " 0   Trimestre                   49 non-null     object\n",
      " 1   Ingresos                    49 non-null     object\n",
      " 2   EBITDA                      49 non-null     object\n",
      " 3   MgEBITDA                    49 non-null     object\n",
      " 4   UtilidadNetaNoBancaria      49 non-null     object\n",
      " 5   MargenUtilidadNeta          49 non-null     object\n",
      " 6   MargenUtilidadBruta         49 non-null     object\n",
      " 7   MargenBruto                 49 non-null     object\n",
      " 8   DeudaFinancieraNeta         49 non-null     object\n",
      " 9   Caja                        49 non-null     object\n",
      " 10  RatioDeudaFinancieraEBITDA  49 non-null     object\n",
      " 11  Empresa                     49 non-null     object\n",
      "dtypes: object(12)\n",
      "memory usage: 4.7+ KB\n"
     ]
    }
   ],
   "source": [
    "import pandas as pd\n",
    "import math\n",
    "\n",
    "df = pd.read_csv('DATA/Empresas.csv')\n",
    "df.info()"
   ]
  },
  {
   "cell_type": "code",
   "execution_count": 37,
   "metadata": {},
   "outputs": [],
   "source": [
    "def process_data(self,path_general):\n",
    "\n",
    "        empresa = \"Falabella\"\n",
    "\n",
    "        df = pd.read_csv(path_general)\n",
    "        df = df[df[\"Empresa\"] == empresa].drop(columns=[\"Empresa\"])\n",
    "        df.index.name = None\n",
    "        \n",
    "        df = df.reset_index(drop=True)\n",
    "        discri = [\"Mg\",\"Margen\",\"Ratio\",\"Trimestre\",\"Empresa\"]\n",
    "\n",
    "        for col in df.columns:\n",
    "            if not any(x in col for x in discri):\n",
    "                df[col] = df[col].str.replace(\",\", \".\").astype(float)\n",
    "                # Pasemos los valores a millones\n",
    "                if df[col].max() > 1000:\n",
    "                    df[col] = df[col].apply(lambda x: x/1000000)\n",
    "                    # redondear a 2 decimales\n",
    "                    #df[col] = df[col].apply(lambda x: round(x,3))\n",
    "                    # Recortar a 2 decimales\n",
    "                    \n",
    "                    \n",
    "            else:\n",
    "                if col not in [\"Trimestre\",\"Empresa\"]:\n",
    "                        # transformar a float\n",
    "                        df[col] = df[col].str.replace(\",\", \".\").astype(float)\n",
    "        \n",
    "        return df\n",
    "\n",
    "        "
   ]
  },
  {
   "cell_type": "code",
   "execution_count": 38,
   "metadata": {},
   "outputs": [
    {
     "data": {
      "text/html": [
       "<div>\n",
       "<style scoped>\n",
       "    .dataframe tbody tr th:only-of-type {\n",
       "        vertical-align: middle;\n",
       "    }\n",
       "\n",
       "    .dataframe tbody tr th {\n",
       "        vertical-align: top;\n",
       "    }\n",
       "\n",
       "    .dataframe thead th {\n",
       "        text-align: right;\n",
       "    }\n",
       "</style>\n",
       "<table border=\"1\" class=\"dataframe\">\n",
       "  <thead>\n",
       "    <tr style=\"text-align: right;\">\n",
       "      <th></th>\n",
       "      <th>Trimestre</th>\n",
       "      <th>Ingresos</th>\n",
       "      <th>EBITDA</th>\n",
       "      <th>MgEBITDA</th>\n",
       "      <th>UtilidadNetaNoBancaria</th>\n",
       "      <th>MargenUtilidadNeta</th>\n",
       "      <th>MargenUtilidadBruta</th>\n",
       "      <th>MargenBruto</th>\n",
       "      <th>DeudaFinancieraNeta</th>\n",
       "      <th>Caja</th>\n",
       "      <th>RatioDeudaFinancieraEBITDA</th>\n",
       "    </tr>\n",
       "  </thead>\n",
       "  <tbody>\n",
       "    <tr>\n",
       "      <th>0</th>\n",
       "      <td>1Q22</td>\n",
       "      <td>2542.936901</td>\n",
       "      <td>206.538570</td>\n",
       "      <td>0.08</td>\n",
       "      <td>23.072278</td>\n",
       "      <td>0.03</td>\n",
       "      <td>0.29</td>\n",
       "      <td>0.29</td>\n",
       "      <td>3405.913214</td>\n",
       "      <td>2151.042110</td>\n",
       "      <td>16.49</td>\n",
       "    </tr>\n",
       "    <tr>\n",
       "      <th>1</th>\n",
       "      <td>2Q22</td>\n",
       "      <td>2621.021201</td>\n",
       "      <td>194.854075</td>\n",
       "      <td>0.07</td>\n",
       "      <td>27.794882</td>\n",
       "      <td>0.03</td>\n",
       "      <td>0.30</td>\n",
       "      <td>0.30</td>\n",
       "      <td>3977.992705</td>\n",
       "      <td>2029.730793</td>\n",
       "      <td>20.42</td>\n",
       "    </tr>\n",
       "    <tr>\n",
       "      <th>2</th>\n",
       "      <td>3Q22</td>\n",
       "      <td>2489.511328</td>\n",
       "      <td>146.302336</td>\n",
       "      <td>0.06</td>\n",
       "      <td>-48.636396</td>\n",
       "      <td>-0.01</td>\n",
       "      <td>0.30</td>\n",
       "      <td>0.30</td>\n",
       "      <td>4375.053915</td>\n",
       "      <td>2316.390792</td>\n",
       "      <td>29.90</td>\n",
       "    </tr>\n",
       "    <tr>\n",
       "      <th>3</th>\n",
       "      <td>4Q22</td>\n",
       "      <td>10460.666398</td>\n",
       "      <td>765.737684</td>\n",
       "      <td>0.07</td>\n",
       "      <td>-8.611080</td>\n",
       "      <td>0.01</td>\n",
       "      <td>0.31</td>\n",
       "      <td>0.31</td>\n",
       "      <td>4022.237765</td>\n",
       "      <td>1850.724043</td>\n",
       "      <td>5.25</td>\n",
       "    </tr>\n",
       "    <tr>\n",
       "      <th>4</th>\n",
       "      <td>1Q23</td>\n",
       "      <td>2274.726265</td>\n",
       "      <td>123.577802</td>\n",
       "      <td>0.05</td>\n",
       "      <td>-55.367385</td>\n",
       "      <td>-0.02</td>\n",
       "      <td>0.29</td>\n",
       "      <td>0.29</td>\n",
       "      <td>3931.382186</td>\n",
       "      <td>1820.327751</td>\n",
       "      <td>31.81</td>\n",
       "    </tr>\n",
       "    <tr>\n",
       "      <th>5</th>\n",
       "      <td>2Q23</td>\n",
       "      <td>2219.917382</td>\n",
       "      <td>408.836493</td>\n",
       "      <td>0.18</td>\n",
       "      <td>100.421167</td>\n",
       "      <td>0.05</td>\n",
       "      <td>0.31</td>\n",
       "      <td>0.31</td>\n",
       "      <td>4051.779465</td>\n",
       "      <td>1738.125837</td>\n",
       "      <td>9.91</td>\n",
       "    </tr>\n",
       "    <tr>\n",
       "      <th>6</th>\n",
       "      <td>3Q23</td>\n",
       "      <td>2206.436616</td>\n",
       "      <td>337.007913</td>\n",
       "      <td>0.15</td>\n",
       "      <td>-19.651327</td>\n",
       "      <td>0.01</td>\n",
       "      <td>0.31</td>\n",
       "      <td>0.31</td>\n",
       "      <td>3948.785850</td>\n",
       "      <td>2165.066950</td>\n",
       "      <td>11.72</td>\n",
       "    </tr>\n",
       "  </tbody>\n",
       "</table>\n",
       "</div>"
      ],
      "text/plain": [
       "  Trimestre      Ingresos      EBITDA  MgEBITDA  UtilidadNetaNoBancaria   \n",
       "0      1Q22   2542.936901  206.538570      0.08               23.072278  \\\n",
       "1      2Q22   2621.021201  194.854075      0.07               27.794882   \n",
       "2      3Q22   2489.511328  146.302336      0.06              -48.636396   \n",
       "3      4Q22  10460.666398  765.737684      0.07               -8.611080   \n",
       "4      1Q23   2274.726265  123.577802      0.05              -55.367385   \n",
       "5      2Q23   2219.917382  408.836493      0.18              100.421167   \n",
       "6      3Q23   2206.436616  337.007913      0.15              -19.651327   \n",
       "\n",
       "   MargenUtilidadNeta  MargenUtilidadBruta  MargenBruto  DeudaFinancieraNeta   \n",
       "0                0.03                 0.29         0.29          3405.913214  \\\n",
       "1                0.03                 0.30         0.30          3977.992705   \n",
       "2               -0.01                 0.30         0.30          4375.053915   \n",
       "3                0.01                 0.31         0.31          4022.237765   \n",
       "4               -0.02                 0.29         0.29          3931.382186   \n",
       "5                0.05                 0.31         0.31          4051.779465   \n",
       "6                0.01                 0.31         0.31          3948.785850   \n",
       "\n",
       "          Caja  RatioDeudaFinancieraEBITDA  \n",
       "0  2151.042110                       16.49  \n",
       "1  2029.730793                       20.42  \n",
       "2  2316.390792                       29.90  \n",
       "3  1850.724043                        5.25  \n",
       "4  1820.327751                       31.81  \n",
       "5  1738.125837                        9.91  \n",
       "6  2165.066950                       11.72  "
      ]
     },
     "execution_count": 38,
     "metadata": {},
     "output_type": "execute_result"
    }
   ],
   "source": [
    "path = \"DATA\\Empresas.csv\"\n",
    "\n",
    "df = process_data(df,path)\n",
    "df"
   ]
  },
  {
   "cell_type": "code",
   "execution_count": 35,
   "metadata": {},
   "outputs": [],
   "source": [
    "df = df[df[\"Empresa\"]== \"Falabella\"]"
   ]
  },
  {
   "cell_type": "code",
   "execution_count": 36,
   "metadata": {},
   "outputs": [
    {
     "data": {
      "text/html": [
       "<div>\n",
       "<style scoped>\n",
       "    .dataframe tbody tr th:only-of-type {\n",
       "        vertical-align: middle;\n",
       "    }\n",
       "\n",
       "    .dataframe tbody tr th {\n",
       "        vertical-align: top;\n",
       "    }\n",
       "\n",
       "    .dataframe thead th {\n",
       "        text-align: right;\n",
       "    }\n",
       "</style>\n",
       "<table border=\"1\" class=\"dataframe\">\n",
       "  <thead>\n",
       "    <tr style=\"text-align: right;\">\n",
       "      <th></th>\n",
       "      <th>Trimestre</th>\n",
       "      <th>Ingresos</th>\n",
       "      <th>EBITDA</th>\n",
       "      <th>MgEBITDA</th>\n",
       "      <th>UtilidadNetaNoBancaria</th>\n",
       "      <th>MargenUtilidadNeta</th>\n",
       "      <th>MargenUtilidadBruta</th>\n",
       "      <th>MargenBruto</th>\n",
       "      <th>DeudaFinancieraNeta</th>\n",
       "      <th>Caja</th>\n",
       "      <th>RatioDeudaFinancieraEBITDA</th>\n",
       "      <th>Empresa</th>\n",
       "    </tr>\n",
       "  </thead>\n",
       "  <tbody>\n",
       "    <tr>\n",
       "      <th>0</th>\n",
       "      <td>1Q22</td>\n",
       "      <td>2542936901,0</td>\n",
       "      <td>206538570,0</td>\n",
       "      <td>0,08</td>\n",
       "      <td>23072278,0</td>\n",
       "      <td>0,03</td>\n",
       "      <td>0,29</td>\n",
       "      <td>0,29</td>\n",
       "      <td>3405913214,0</td>\n",
       "      <td>2151042110,0</td>\n",
       "      <td>16,49</td>\n",
       "      <td>Falabella</td>\n",
       "    </tr>\n",
       "    <tr>\n",
       "      <th>1</th>\n",
       "      <td>2Q22</td>\n",
       "      <td>2621021201,0</td>\n",
       "      <td>194854075,0</td>\n",
       "      <td>0,07</td>\n",
       "      <td>27794882,0</td>\n",
       "      <td>0,03</td>\n",
       "      <td>0,3</td>\n",
       "      <td>0,3</td>\n",
       "      <td>3977992705,0</td>\n",
       "      <td>2029730793,0</td>\n",
       "      <td>20,42</td>\n",
       "      <td>Falabella</td>\n",
       "    </tr>\n",
       "    <tr>\n",
       "      <th>2</th>\n",
       "      <td>3Q22</td>\n",
       "      <td>2489511328,0</td>\n",
       "      <td>146302336,0</td>\n",
       "      <td>0,06</td>\n",
       "      <td>-48636396,0</td>\n",
       "      <td>-0,01</td>\n",
       "      <td>0,3</td>\n",
       "      <td>0,3</td>\n",
       "      <td>4375053915,0</td>\n",
       "      <td>2316390792,0</td>\n",
       "      <td>29,9</td>\n",
       "      <td>Falabella</td>\n",
       "    </tr>\n",
       "    <tr>\n",
       "      <th>3</th>\n",
       "      <td>4Q22</td>\n",
       "      <td>10460666398,0</td>\n",
       "      <td>765737684,0</td>\n",
       "      <td>0,07</td>\n",
       "      <td>-8611080,0</td>\n",
       "      <td>0,01</td>\n",
       "      <td>0,31</td>\n",
       "      <td>0,31</td>\n",
       "      <td>4022237765,0</td>\n",
       "      <td>1850724043,0</td>\n",
       "      <td>5,25</td>\n",
       "      <td>Falabella</td>\n",
       "    </tr>\n",
       "    <tr>\n",
       "      <th>4</th>\n",
       "      <td>1Q23</td>\n",
       "      <td>2274726265,0</td>\n",
       "      <td>123577802,0</td>\n",
       "      <td>0,05</td>\n",
       "      <td>-55367385,0</td>\n",
       "      <td>-0,02</td>\n",
       "      <td>0,29</td>\n",
       "      <td>0,29</td>\n",
       "      <td>3931382186,0</td>\n",
       "      <td>1820327751,0</td>\n",
       "      <td>31,81</td>\n",
       "      <td>Falabella</td>\n",
       "    </tr>\n",
       "    <tr>\n",
       "      <th>5</th>\n",
       "      <td>2Q23</td>\n",
       "      <td>2219917382,0</td>\n",
       "      <td>408836493,0</td>\n",
       "      <td>0,18</td>\n",
       "      <td>100421167,0</td>\n",
       "      <td>0,05</td>\n",
       "      <td>0,31</td>\n",
       "      <td>0,31</td>\n",
       "      <td>4051779465,0</td>\n",
       "      <td>1738125837,0</td>\n",
       "      <td>9,91</td>\n",
       "      <td>Falabella</td>\n",
       "    </tr>\n",
       "    <tr>\n",
       "      <th>6</th>\n",
       "      <td>3Q23</td>\n",
       "      <td>2206436616,0</td>\n",
       "      <td>337007913,0</td>\n",
       "      <td>0,15</td>\n",
       "      <td>-19651327,0</td>\n",
       "      <td>0,01</td>\n",
       "      <td>0,31</td>\n",
       "      <td>0,31</td>\n",
       "      <td>3948785850,0</td>\n",
       "      <td>2165066950,0</td>\n",
       "      <td>11,72</td>\n",
       "      <td>Falabella</td>\n",
       "    </tr>\n",
       "  </tbody>\n",
       "</table>\n",
       "</div>"
      ],
      "text/plain": [
       "  Trimestre       Ingresos       EBITDA MgEBITDA UtilidadNetaNoBancaria  \\\n",
       "0      1Q22   2542936901,0  206538570,0     0,08             23072278,0   \n",
       "1      2Q22   2621021201,0  194854075,0     0,07             27794882,0   \n",
       "2      3Q22   2489511328,0  146302336,0     0,06            -48636396,0   \n",
       "3      4Q22  10460666398,0  765737684,0     0,07             -8611080,0   \n",
       "4      1Q23   2274726265,0  123577802,0     0,05            -55367385,0   \n",
       "5      2Q23   2219917382,0  408836493,0     0,18            100421167,0   \n",
       "6      3Q23   2206436616,0  337007913,0     0,15            -19651327,0   \n",
       "\n",
       "  MargenUtilidadNeta MargenUtilidadBruta MargenBruto DeudaFinancieraNeta  \\\n",
       "0               0,03                0,29        0,29        3405913214,0   \n",
       "1               0,03                 0,3         0,3        3977992705,0   \n",
       "2              -0,01                 0,3         0,3        4375053915,0   \n",
       "3               0,01                0,31        0,31        4022237765,0   \n",
       "4              -0,02                0,29        0,29        3931382186,0   \n",
       "5               0,05                0,31        0,31        4051779465,0   \n",
       "6               0,01                0,31        0,31        3948785850,0   \n",
       "\n",
       "           Caja RatioDeudaFinancieraEBITDA    Empresa  \n",
       "0  2151042110,0                      16,49  Falabella  \n",
       "1  2029730793,0                      20,42  Falabella  \n",
       "2  2316390792,0                       29,9  Falabella  \n",
       "3  1850724043,0                       5,25  Falabella  \n",
       "4  1820327751,0                      31,81  Falabella  \n",
       "5  1738125837,0                       9,91  Falabella  \n",
       "6  2165066950,0                      11,72  Falabella  "
      ]
     },
     "execution_count": 36,
     "metadata": {},
     "output_type": "execute_result"
    }
   ],
   "source": [
    "df"
   ]
  },
  {
   "cell_type": "code",
   "execution_count": 37,
   "metadata": {},
   "outputs": [
    {
     "name": "stdout",
     "output_type": "stream",
     "text": [
      "Trimestre\n"
     ]
    },
    {
     "ename": "ValueError",
     "evalue": "could not convert string to float: '1Q22'",
     "output_type": "error",
     "traceback": [
      "\u001b[0;31m---------------------------------------------------------------------------\u001b[0m",
      "\u001b[0;31mValueError\u001b[0m                                Traceback (most recent call last)",
      "Cell \u001b[0;32mIn[37], line 10\u001b[0m\n\u001b[1;32m      8\u001b[0m \u001b[38;5;28;01mif\u001b[39;00m col \u001b[38;5;241m!=\u001b[39m \u001b[38;5;124m\"\u001b[39m\u001b[38;5;124mTrimestre\u001b[39m\u001b[38;5;124m\"\u001b[39m \u001b[38;5;129;01mor\u001b[39;00m col \u001b[38;5;241m!=\u001b[39m \u001b[38;5;124m\"\u001b[39m\u001b[38;5;124mEmpresa\u001b[39m\u001b[38;5;124m\"\u001b[39m:\n\u001b[1;32m      9\u001b[0m         \u001b[38;5;28mprint\u001b[39m(col)\n\u001b[0;32m---> 10\u001b[0m         df[col] \u001b[38;5;241m=\u001b[39m \u001b[43mdf\u001b[49m\u001b[43m[\u001b[49m\u001b[43mcol\u001b[49m\u001b[43m]\u001b[49m\u001b[38;5;241;43m.\u001b[39;49m\u001b[43mstr\u001b[49m\u001b[38;5;241;43m.\u001b[39;49m\u001b[43mreplace\u001b[49m\u001b[43m(\u001b[49m\u001b[38;5;124;43m\"\u001b[39;49m\u001b[38;5;124;43m,\u001b[39;49m\u001b[38;5;124;43m\"\u001b[39;49m\u001b[43m,\u001b[49m\u001b[43m \u001b[49m\u001b[38;5;124;43m\"\u001b[39;49m\u001b[38;5;124;43m.\u001b[39;49m\u001b[38;5;124;43m\"\u001b[39;49m\u001b[43m)\u001b[49m\u001b[38;5;241;43m.\u001b[39;49m\u001b[43mastype\u001b[49m\u001b[43m(\u001b[49m\u001b[38;5;28;43mfloat\u001b[39;49m\u001b[43m)\u001b[49m\u001b[38;5;241m.\u001b[39mapply(\u001b[38;5;28;01mlambda\u001b[39;00m x: math\u001b[38;5;241m.\u001b[39mfloor(x))\u001b[38;5;241m.\u001b[39mastype(\u001b[38;5;28mfloat\u001b[39m)\n",
      "File \u001b[0;32m/Library/Frameworks/Python.framework/Versions/3.10/lib/python3.10/site-packages/pandas/core/generic.py:6240\u001b[0m, in \u001b[0;36mNDFrame.astype\u001b[0;34m(self, dtype, copy, errors)\u001b[0m\n\u001b[1;32m   6233\u001b[0m     results \u001b[38;5;241m=\u001b[39m [\n\u001b[1;32m   6234\u001b[0m         \u001b[38;5;28mself\u001b[39m\u001b[38;5;241m.\u001b[39miloc[:, i]\u001b[38;5;241m.\u001b[39mastype(dtype, copy\u001b[38;5;241m=\u001b[39mcopy)\n\u001b[1;32m   6235\u001b[0m         \u001b[38;5;28;01mfor\u001b[39;00m i \u001b[38;5;129;01min\u001b[39;00m \u001b[38;5;28mrange\u001b[39m(\u001b[38;5;28mlen\u001b[39m(\u001b[38;5;28mself\u001b[39m\u001b[38;5;241m.\u001b[39mcolumns))\n\u001b[1;32m   6236\u001b[0m     ]\n\u001b[1;32m   6238\u001b[0m \u001b[38;5;28;01melse\u001b[39;00m:\n\u001b[1;32m   6239\u001b[0m     \u001b[38;5;66;03m# else, only a single dtype is given\u001b[39;00m\n\u001b[0;32m-> 6240\u001b[0m     new_data \u001b[38;5;241m=\u001b[39m \u001b[38;5;28;43mself\u001b[39;49m\u001b[38;5;241;43m.\u001b[39;49m\u001b[43m_mgr\u001b[49m\u001b[38;5;241;43m.\u001b[39;49m\u001b[43mastype\u001b[49m\u001b[43m(\u001b[49m\u001b[43mdtype\u001b[49m\u001b[38;5;241;43m=\u001b[39;49m\u001b[43mdtype\u001b[49m\u001b[43m,\u001b[49m\u001b[43m \u001b[49m\u001b[43mcopy\u001b[49m\u001b[38;5;241;43m=\u001b[39;49m\u001b[43mcopy\u001b[49m\u001b[43m,\u001b[49m\u001b[43m \u001b[49m\u001b[43merrors\u001b[49m\u001b[38;5;241;43m=\u001b[39;49m\u001b[43merrors\u001b[49m\u001b[43m)\u001b[49m\n\u001b[1;32m   6241\u001b[0m     \u001b[38;5;28;01mreturn\u001b[39;00m \u001b[38;5;28mself\u001b[39m\u001b[38;5;241m.\u001b[39m_constructor(new_data)\u001b[38;5;241m.\u001b[39m__finalize__(\u001b[38;5;28mself\u001b[39m, method\u001b[38;5;241m=\u001b[39m\u001b[38;5;124m\"\u001b[39m\u001b[38;5;124mastype\u001b[39m\u001b[38;5;124m\"\u001b[39m)\n\u001b[1;32m   6243\u001b[0m \u001b[38;5;66;03m# GH 33113: handle empty frame or series\u001b[39;00m\n",
      "File \u001b[0;32m/Library/Frameworks/Python.framework/Versions/3.10/lib/python3.10/site-packages/pandas/core/internals/managers.py:448\u001b[0m, in \u001b[0;36mBaseBlockManager.astype\u001b[0;34m(self, dtype, copy, errors)\u001b[0m\n\u001b[1;32m    447\u001b[0m \u001b[38;5;28;01mdef\u001b[39;00m \u001b[38;5;21mastype\u001b[39m(\u001b[38;5;28mself\u001b[39m: T, dtype, copy: \u001b[38;5;28mbool\u001b[39m \u001b[38;5;241m=\u001b[39m \u001b[38;5;28;01mFalse\u001b[39;00m, errors: \u001b[38;5;28mstr\u001b[39m \u001b[38;5;241m=\u001b[39m \u001b[38;5;124m\"\u001b[39m\u001b[38;5;124mraise\u001b[39m\u001b[38;5;124m\"\u001b[39m) \u001b[38;5;241m-\u001b[39m\u001b[38;5;241m>\u001b[39m T:\n\u001b[0;32m--> 448\u001b[0m     \u001b[38;5;28;01mreturn\u001b[39;00m \u001b[38;5;28;43mself\u001b[39;49m\u001b[38;5;241;43m.\u001b[39;49m\u001b[43mapply\u001b[49m\u001b[43m(\u001b[49m\u001b[38;5;124;43m\"\u001b[39;49m\u001b[38;5;124;43mastype\u001b[39;49m\u001b[38;5;124;43m\"\u001b[39;49m\u001b[43m,\u001b[49m\u001b[43m \u001b[49m\u001b[43mdtype\u001b[49m\u001b[38;5;241;43m=\u001b[39;49m\u001b[43mdtype\u001b[49m\u001b[43m,\u001b[49m\u001b[43m \u001b[49m\u001b[43mcopy\u001b[49m\u001b[38;5;241;43m=\u001b[39;49m\u001b[43mcopy\u001b[49m\u001b[43m,\u001b[49m\u001b[43m \u001b[49m\u001b[43merrors\u001b[49m\u001b[38;5;241;43m=\u001b[39;49m\u001b[43merrors\u001b[49m\u001b[43m)\u001b[49m\n",
      "File \u001b[0;32m/Library/Frameworks/Python.framework/Versions/3.10/lib/python3.10/site-packages/pandas/core/internals/managers.py:352\u001b[0m, in \u001b[0;36mBaseBlockManager.apply\u001b[0;34m(self, f, align_keys, ignore_failures, **kwargs)\u001b[0m\n\u001b[1;32m    350\u001b[0m         applied \u001b[38;5;241m=\u001b[39m b\u001b[38;5;241m.\u001b[39mapply(f, \u001b[38;5;241m*\u001b[39m\u001b[38;5;241m*\u001b[39mkwargs)\n\u001b[1;32m    351\u001b[0m     \u001b[38;5;28;01melse\u001b[39;00m:\n\u001b[0;32m--> 352\u001b[0m         applied \u001b[38;5;241m=\u001b[39m \u001b[38;5;28;43mgetattr\u001b[39;49m\u001b[43m(\u001b[49m\u001b[43mb\u001b[49m\u001b[43m,\u001b[49m\u001b[43m \u001b[49m\u001b[43mf\u001b[49m\u001b[43m)\u001b[49m\u001b[43m(\u001b[49m\u001b[38;5;241;43m*\u001b[39;49m\u001b[38;5;241;43m*\u001b[39;49m\u001b[43mkwargs\u001b[49m\u001b[43m)\u001b[49m\n\u001b[1;32m    353\u001b[0m \u001b[38;5;28;01mexcept\u001b[39;00m (\u001b[38;5;167;01mTypeError\u001b[39;00m, \u001b[38;5;167;01mNotImplementedError\u001b[39;00m):\n\u001b[1;32m    354\u001b[0m     \u001b[38;5;28;01mif\u001b[39;00m \u001b[38;5;129;01mnot\u001b[39;00m ignore_failures:\n",
      "File \u001b[0;32m/Library/Frameworks/Python.framework/Versions/3.10/lib/python3.10/site-packages/pandas/core/internals/blocks.py:526\u001b[0m, in \u001b[0;36mBlock.astype\u001b[0;34m(self, dtype, copy, errors)\u001b[0m\n\u001b[1;32m    508\u001b[0m \u001b[38;5;250m\u001b[39m\u001b[38;5;124;03m\"\"\"\u001b[39;00m\n\u001b[1;32m    509\u001b[0m \u001b[38;5;124;03mCoerce to the new dtype.\u001b[39;00m\n\u001b[1;32m    510\u001b[0m \n\u001b[0;32m   (...)\u001b[0m\n\u001b[1;32m    522\u001b[0m \u001b[38;5;124;03mBlock\u001b[39;00m\n\u001b[1;32m    523\u001b[0m \u001b[38;5;124;03m\"\"\"\u001b[39;00m\n\u001b[1;32m    524\u001b[0m values \u001b[38;5;241m=\u001b[39m \u001b[38;5;28mself\u001b[39m\u001b[38;5;241m.\u001b[39mvalues\n\u001b[0;32m--> 526\u001b[0m new_values \u001b[38;5;241m=\u001b[39m \u001b[43mastype_array_safe\u001b[49m\u001b[43m(\u001b[49m\u001b[43mvalues\u001b[49m\u001b[43m,\u001b[49m\u001b[43m \u001b[49m\u001b[43mdtype\u001b[49m\u001b[43m,\u001b[49m\u001b[43m \u001b[49m\u001b[43mcopy\u001b[49m\u001b[38;5;241;43m=\u001b[39;49m\u001b[43mcopy\u001b[49m\u001b[43m,\u001b[49m\u001b[43m \u001b[49m\u001b[43merrors\u001b[49m\u001b[38;5;241;43m=\u001b[39;49m\u001b[43merrors\u001b[49m\u001b[43m)\u001b[49m\n\u001b[1;32m    528\u001b[0m new_values \u001b[38;5;241m=\u001b[39m maybe_coerce_values(new_values)\n\u001b[1;32m    529\u001b[0m newb \u001b[38;5;241m=\u001b[39m \u001b[38;5;28mself\u001b[39m\u001b[38;5;241m.\u001b[39mmake_block(new_values)\n",
      "File \u001b[0;32m/Library/Frameworks/Python.framework/Versions/3.10/lib/python3.10/site-packages/pandas/core/dtypes/astype.py:299\u001b[0m, in \u001b[0;36mastype_array_safe\u001b[0;34m(values, dtype, copy, errors)\u001b[0m\n\u001b[1;32m    296\u001b[0m     \u001b[38;5;28;01mreturn\u001b[39;00m values\u001b[38;5;241m.\u001b[39mcopy()\n\u001b[1;32m    298\u001b[0m \u001b[38;5;28;01mtry\u001b[39;00m:\n\u001b[0;32m--> 299\u001b[0m     new_values \u001b[38;5;241m=\u001b[39m \u001b[43mastype_array\u001b[49m\u001b[43m(\u001b[49m\u001b[43mvalues\u001b[49m\u001b[43m,\u001b[49m\u001b[43m \u001b[49m\u001b[43mdtype\u001b[49m\u001b[43m,\u001b[49m\u001b[43m \u001b[49m\u001b[43mcopy\u001b[49m\u001b[38;5;241;43m=\u001b[39;49m\u001b[43mcopy\u001b[49m\u001b[43m)\u001b[49m\n\u001b[1;32m    300\u001b[0m \u001b[38;5;28;01mexcept\u001b[39;00m (\u001b[38;5;167;01mValueError\u001b[39;00m, \u001b[38;5;167;01mTypeError\u001b[39;00m):\n\u001b[1;32m    301\u001b[0m     \u001b[38;5;66;03m# e.g. astype_nansafe can fail on object-dtype of strings\u001b[39;00m\n\u001b[1;32m    302\u001b[0m     \u001b[38;5;66;03m#  trying to convert to float\u001b[39;00m\n\u001b[1;32m    303\u001b[0m     \u001b[38;5;28;01mif\u001b[39;00m errors \u001b[38;5;241m==\u001b[39m \u001b[38;5;124m\"\u001b[39m\u001b[38;5;124mignore\u001b[39m\u001b[38;5;124m\"\u001b[39m:\n",
      "File \u001b[0;32m/Library/Frameworks/Python.framework/Versions/3.10/lib/python3.10/site-packages/pandas/core/dtypes/astype.py:230\u001b[0m, in \u001b[0;36mastype_array\u001b[0;34m(values, dtype, copy)\u001b[0m\n\u001b[1;32m    227\u001b[0m     values \u001b[38;5;241m=\u001b[39m values\u001b[38;5;241m.\u001b[39mastype(dtype, copy\u001b[38;5;241m=\u001b[39mcopy)\n\u001b[1;32m    229\u001b[0m \u001b[38;5;28;01melse\u001b[39;00m:\n\u001b[0;32m--> 230\u001b[0m     values \u001b[38;5;241m=\u001b[39m \u001b[43mastype_nansafe\u001b[49m\u001b[43m(\u001b[49m\u001b[43mvalues\u001b[49m\u001b[43m,\u001b[49m\u001b[43m \u001b[49m\u001b[43mdtype\u001b[49m\u001b[43m,\u001b[49m\u001b[43m \u001b[49m\u001b[43mcopy\u001b[49m\u001b[38;5;241;43m=\u001b[39;49m\u001b[43mcopy\u001b[49m\u001b[43m)\u001b[49m\n\u001b[1;32m    232\u001b[0m \u001b[38;5;66;03m# in pandas we don't store numpy str dtypes, so convert to object\u001b[39;00m\n\u001b[1;32m    233\u001b[0m \u001b[38;5;28;01mif\u001b[39;00m \u001b[38;5;28misinstance\u001b[39m(dtype, np\u001b[38;5;241m.\u001b[39mdtype) \u001b[38;5;129;01mand\u001b[39;00m \u001b[38;5;28missubclass\u001b[39m(values\u001b[38;5;241m.\u001b[39mdtype\u001b[38;5;241m.\u001b[39mtype, \u001b[38;5;28mstr\u001b[39m):\n",
      "File \u001b[0;32m/Library/Frameworks/Python.framework/Versions/3.10/lib/python3.10/site-packages/pandas/core/dtypes/astype.py:170\u001b[0m, in \u001b[0;36mastype_nansafe\u001b[0;34m(arr, dtype, copy, skipna)\u001b[0m\n\u001b[1;32m    166\u001b[0m     \u001b[38;5;28;01mraise\u001b[39;00m \u001b[38;5;167;01mValueError\u001b[39;00m(msg)\n\u001b[1;32m    168\u001b[0m \u001b[38;5;28;01mif\u001b[39;00m copy \u001b[38;5;129;01mor\u001b[39;00m is_object_dtype(arr\u001b[38;5;241m.\u001b[39mdtype) \u001b[38;5;129;01mor\u001b[39;00m is_object_dtype(dtype):\n\u001b[1;32m    169\u001b[0m     \u001b[38;5;66;03m# Explicit copy, or required since NumPy can't view from / to object.\u001b[39;00m\n\u001b[0;32m--> 170\u001b[0m     \u001b[38;5;28;01mreturn\u001b[39;00m \u001b[43marr\u001b[49m\u001b[38;5;241;43m.\u001b[39;49m\u001b[43mastype\u001b[49m\u001b[43m(\u001b[49m\u001b[43mdtype\u001b[49m\u001b[43m,\u001b[49m\u001b[43m \u001b[49m\u001b[43mcopy\u001b[49m\u001b[38;5;241;43m=\u001b[39;49m\u001b[38;5;28;43;01mTrue\u001b[39;49;00m\u001b[43m)\u001b[49m\n\u001b[1;32m    172\u001b[0m \u001b[38;5;28;01mreturn\u001b[39;00m arr\u001b[38;5;241m.\u001b[39mastype(dtype, copy\u001b[38;5;241m=\u001b[39mcopy)\n",
      "\u001b[0;31mValueError\u001b[0m: could not convert string to float: '1Q22'"
     ]
    }
   ],
   "source": [
    "import math\n",
    "discri = [\"Mg\",\"Margen\",\"Ratio\",\"Trimestre\",\"Empresa\"]\n",
    "\n",
    "for col in df.columns:\n",
    "    if not any(x in col for x in discri):\n",
    "        df[col] = df[col].str.replace(\",\", \".\").astype(float).apply(lambda x: math.floor(x)).astype(int)\n",
    "    else:\n",
    "        if col != \"Trimestre\" or col != \"Empresa\":\n",
    "                print(col)\n",
    "                # transformar a float\n",
    "                df[col] = df[col].str.replace(\",\", \".\").astype(float)"
   ]
  },
  {
   "cell_type": "code",
   "execution_count": 22,
   "metadata": {},
   "outputs": [
    {
     "data": {
      "text/html": [
       "<div>\n",
       "<style scoped>\n",
       "    .dataframe tbody tr th:only-of-type {\n",
       "        vertical-align: middle;\n",
       "    }\n",
       "\n",
       "    .dataframe tbody tr th {\n",
       "        vertical-align: top;\n",
       "    }\n",
       "\n",
       "    .dataframe thead th {\n",
       "        text-align: right;\n",
       "    }\n",
       "</style>\n",
       "<table border=\"1\" class=\"dataframe\">\n",
       "  <thead>\n",
       "    <tr style=\"text-align: right;\">\n",
       "      <th></th>\n",
       "      <th>Trimestre</th>\n",
       "      <th>Ingresos</th>\n",
       "      <th>EBITDA</th>\n",
       "      <th>MgEBITDA</th>\n",
       "      <th>UtilidadNetaNoBancaria</th>\n",
       "      <th>MargenUtilidadNeta</th>\n",
       "      <th>MargenUtilidadBruta</th>\n",
       "      <th>MargenBruto</th>\n",
       "      <th>DeudaFinancieraNeta</th>\n",
       "      <th>Caja</th>\n",
       "      <th>RatioDeudaFinancieraEBITDA</th>\n",
       "      <th>Empresa</th>\n",
       "    </tr>\n",
       "  </thead>\n",
       "  <tbody>\n",
       "    <tr>\n",
       "      <th>0</th>\n",
       "      <td>1Q22</td>\n",
       "      <td>2542936901</td>\n",
       "      <td>206538570</td>\n",
       "      <td>0,08</td>\n",
       "      <td>23072278</td>\n",
       "      <td>0,03</td>\n",
       "      <td>0,29</td>\n",
       "      <td>0,29</td>\n",
       "      <td>3405913214</td>\n",
       "      <td>2151042110</td>\n",
       "      <td>16,49</td>\n",
       "      <td>Falabella</td>\n",
       "    </tr>\n",
       "    <tr>\n",
       "      <th>1</th>\n",
       "      <td>2Q22</td>\n",
       "      <td>2621021201</td>\n",
       "      <td>194854075</td>\n",
       "      <td>0,07</td>\n",
       "      <td>27794882</td>\n",
       "      <td>0,03</td>\n",
       "      <td>0,3</td>\n",
       "      <td>0,3</td>\n",
       "      <td>3977992705</td>\n",
       "      <td>2029730793</td>\n",
       "      <td>20,42</td>\n",
       "      <td>Falabella</td>\n",
       "    </tr>\n",
       "    <tr>\n",
       "      <th>2</th>\n",
       "      <td>3Q22</td>\n",
       "      <td>2489511328</td>\n",
       "      <td>146302336</td>\n",
       "      <td>0,06</td>\n",
       "      <td>-48636396</td>\n",
       "      <td>-0,01</td>\n",
       "      <td>0,3</td>\n",
       "      <td>0,3</td>\n",
       "      <td>4375053915</td>\n",
       "      <td>2316390792</td>\n",
       "      <td>29,9</td>\n",
       "      <td>Falabella</td>\n",
       "    </tr>\n",
       "    <tr>\n",
       "      <th>3</th>\n",
       "      <td>4Q22</td>\n",
       "      <td>10460666398</td>\n",
       "      <td>765737684</td>\n",
       "      <td>0,07</td>\n",
       "      <td>-8611080</td>\n",
       "      <td>0,01</td>\n",
       "      <td>0,31</td>\n",
       "      <td>0,31</td>\n",
       "      <td>4022237765</td>\n",
       "      <td>1850724043</td>\n",
       "      <td>5,25</td>\n",
       "      <td>Falabella</td>\n",
       "    </tr>\n",
       "    <tr>\n",
       "      <th>4</th>\n",
       "      <td>1Q23</td>\n",
       "      <td>2274726265</td>\n",
       "      <td>123577802</td>\n",
       "      <td>0,05</td>\n",
       "      <td>-55367385</td>\n",
       "      <td>-0,02</td>\n",
       "      <td>0,29</td>\n",
       "      <td>0,29</td>\n",
       "      <td>3931382186</td>\n",
       "      <td>1820327751</td>\n",
       "      <td>31,81</td>\n",
       "      <td>Falabella</td>\n",
       "    </tr>\n",
       "    <tr>\n",
       "      <th>5</th>\n",
       "      <td>2Q23</td>\n",
       "      <td>2219917382</td>\n",
       "      <td>408836493</td>\n",
       "      <td>0,18</td>\n",
       "      <td>100421167</td>\n",
       "      <td>0,05</td>\n",
       "      <td>0,31</td>\n",
       "      <td>0,31</td>\n",
       "      <td>4051779465</td>\n",
       "      <td>1738125837</td>\n",
       "      <td>9,91</td>\n",
       "      <td>Falabella</td>\n",
       "    </tr>\n",
       "    <tr>\n",
       "      <th>6</th>\n",
       "      <td>3Q23</td>\n",
       "      <td>2206436616</td>\n",
       "      <td>337007913</td>\n",
       "      <td>0,15</td>\n",
       "      <td>-19651327</td>\n",
       "      <td>0,01</td>\n",
       "      <td>0,31</td>\n",
       "      <td>0,31</td>\n",
       "      <td>3948785850</td>\n",
       "      <td>2165066950</td>\n",
       "      <td>11,72</td>\n",
       "      <td>Falabella</td>\n",
       "    </tr>\n",
       "  </tbody>\n",
       "</table>\n",
       "</div>"
      ],
      "text/plain": [
       "  Trimestre     Ingresos     EBITDA MgEBITDA  UtilidadNetaNoBancaria  \\\n",
       "0      1Q22   2542936901  206538570     0,08                23072278   \n",
       "1      2Q22   2621021201  194854075     0,07                27794882   \n",
       "2      3Q22   2489511328  146302336     0,06               -48636396   \n",
       "3      4Q22  10460666398  765737684     0,07                -8611080   \n",
       "4      1Q23   2274726265  123577802     0,05               -55367385   \n",
       "5      2Q23   2219917382  408836493     0,18               100421167   \n",
       "6      3Q23   2206436616  337007913     0,15               -19651327   \n",
       "\n",
       "  MargenUtilidadNeta MargenUtilidadBruta MargenBruto  DeudaFinancieraNeta  \\\n",
       "0               0,03                0,29        0,29           3405913214   \n",
       "1               0,03                 0,3         0,3           3977992705   \n",
       "2              -0,01                 0,3         0,3           4375053915   \n",
       "3               0,01                0,31        0,31           4022237765   \n",
       "4              -0,02                0,29        0,29           3931382186   \n",
       "5               0,05                0,31        0,31           4051779465   \n",
       "6               0,01                0,31        0,31           3948785850   \n",
       "\n",
       "         Caja RatioDeudaFinancieraEBITDA    Empresa  \n",
       "0  2151042110                      16,49  Falabella  \n",
       "1  2029730793                      20,42  Falabella  \n",
       "2  2316390792                       29,9  Falabella  \n",
       "3  1850724043                       5,25  Falabella  \n",
       "4  1820327751                      31,81  Falabella  \n",
       "5  1738125837                       9,91  Falabella  \n",
       "6  2165066950                      11,72  Falabella  "
      ]
     },
     "execution_count": 22,
     "metadata": {},
     "output_type": "execute_result"
    }
   ],
   "source": [
    "df"
   ]
  },
  {
   "cell_type": "code",
   "execution_count": null,
   "metadata": {},
   "outputs": [],
   "source": []
  },
  {
   "cell_type": "code",
   "execution_count": null,
   "metadata": {},
   "outputs": [],
   "source": [
    "from pymongo.mongo_client import MongoClient\n",
    "from pymongo.server_api import ServerApi\n",
    "uri = \"mongodb+srv://joaquincabello:<password>@test.qh72oob.mongodb.net/?retryWrites=true&w=majority&appName=Test\"\n",
    "# Create a new client and connect to the server\n",
    "client = MongoClient(uri, server_api=ServerApi('1'))\n",
    "# Send a ping to confirm a successful connection\n",
    "try:\n",
    "    client.admin.command('ping')\n",
    "    print(\"Pinged your deployment. You successfully connected to MongoDB!\")\n",
    "except Exception as e:\n",
    "    print(e)"
   ]
  },
  {
   "cell_type": "code",
   "execution_count": 6,
   "metadata": {},
   "outputs": [
    {
     "ename": "KeyboardInterrupt",
     "evalue": "",
     "output_type": "error",
     "traceback": [
      "\u001b[0;31m---------------------------------------------------------------------------\u001b[0m",
      "\u001b[0;31mKeyboardInterrupt\u001b[0m                         Traceback (most recent call last)",
      "Cell \u001b[0;32mIn[6], line 10\u001b[0m\n\u001b[1;32m      8\u001b[0m headers \u001b[38;5;241m=\u001b[39m {\u001b[38;5;124m\"\u001b[39m\u001b[38;5;124mContent-Type\u001b[39m\u001b[38;5;124m\"\u001b[39m: \u001b[38;5;124m\"\u001b[39m\u001b[38;5;124mapplication/x-www-form-urlencoded\u001b[39m\u001b[38;5;124m\"\u001b[39m}\n\u001b[1;32m      9\u001b[0m data \u001b[38;5;241m=\u001b[39m \u001b[38;5;124m\"\u001b[39m\u001b[38;5;124mapikey=\u001b[39m\u001b[38;5;124m\"\u001b[39m \u001b[38;5;241m+\u001b[39m apikey \u001b[38;5;241m+\u001b[39m \u001b[38;5;124m\"\u001b[39m\u001b[38;5;124m&grant_type=urn:ibm:params:oauth:grant-type:apikey\u001b[39m\u001b[38;5;124m\"\u001b[39m\n\u001b[0;32m---> 10\u001b[0m response \u001b[38;5;241m=\u001b[39m \u001b[43mrequests\u001b[49m\u001b[38;5;241;43m.\u001b[39;49m\u001b[43mpost\u001b[49m\u001b[43m(\u001b[49m\u001b[43murl\u001b[49m\u001b[43m,\u001b[49m\u001b[43m \u001b[49m\u001b[43mheaders\u001b[49m\u001b[38;5;241;43m=\u001b[39;49m\u001b[43mheaders\u001b[49m\u001b[43m,\u001b[49m\u001b[43m \u001b[49m\u001b[43mdata\u001b[49m\u001b[38;5;241;43m=\u001b[39;49m\u001b[43mdata\u001b[49m\u001b[43m)\u001b[49m\n\u001b[1;32m     11\u001b[0m iam_token \u001b[38;5;241m=\u001b[39m response\u001b[38;5;241m.\u001b[39mjson()[\u001b[38;5;124m\"\u001b[39m\u001b[38;5;124maccess_token\u001b[39m\u001b[38;5;124m\"\u001b[39m]\n",
      "File \u001b[0;32m/Library/Frameworks/Python.framework/Versions/3.10/lib/python3.10/site-packages/requests/api.py:115\u001b[0m, in \u001b[0;36mpost\u001b[0;34m(url, data, json, **kwargs)\u001b[0m\n\u001b[1;32m    103\u001b[0m \u001b[38;5;28;01mdef\u001b[39;00m \u001b[38;5;21mpost\u001b[39m(url, data\u001b[38;5;241m=\u001b[39m\u001b[38;5;28;01mNone\u001b[39;00m, json\u001b[38;5;241m=\u001b[39m\u001b[38;5;28;01mNone\u001b[39;00m, \u001b[38;5;241m*\u001b[39m\u001b[38;5;241m*\u001b[39mkwargs):\n\u001b[1;32m    104\u001b[0m \u001b[38;5;250m    \u001b[39m\u001b[38;5;124mr\u001b[39m\u001b[38;5;124;03m\"\"\"Sends a POST request.\u001b[39;00m\n\u001b[1;32m    105\u001b[0m \n\u001b[1;32m    106\u001b[0m \u001b[38;5;124;03m    :param url: URL for the new :class:`Request` object.\u001b[39;00m\n\u001b[0;32m   (...)\u001b[0m\n\u001b[1;32m    112\u001b[0m \u001b[38;5;124;03m    :rtype: requests.Response\u001b[39;00m\n\u001b[1;32m    113\u001b[0m \u001b[38;5;124;03m    \"\"\"\u001b[39;00m\n\u001b[0;32m--> 115\u001b[0m     \u001b[38;5;28;01mreturn\u001b[39;00m \u001b[43mrequest\u001b[49m\u001b[43m(\u001b[49m\u001b[38;5;124;43m\"\u001b[39;49m\u001b[38;5;124;43mpost\u001b[39;49m\u001b[38;5;124;43m\"\u001b[39;49m\u001b[43m,\u001b[49m\u001b[43m \u001b[49m\u001b[43murl\u001b[49m\u001b[43m,\u001b[49m\u001b[43m \u001b[49m\u001b[43mdata\u001b[49m\u001b[38;5;241;43m=\u001b[39;49m\u001b[43mdata\u001b[49m\u001b[43m,\u001b[49m\u001b[43m \u001b[49m\u001b[43mjson\u001b[49m\u001b[38;5;241;43m=\u001b[39;49m\u001b[43mjson\u001b[49m\u001b[43m,\u001b[49m\u001b[43m \u001b[49m\u001b[38;5;241;43m*\u001b[39;49m\u001b[38;5;241;43m*\u001b[39;49m\u001b[43mkwargs\u001b[49m\u001b[43m)\u001b[49m\n",
      "File \u001b[0;32m/Library/Frameworks/Python.framework/Versions/3.10/lib/python3.10/site-packages/requests/api.py:59\u001b[0m, in \u001b[0;36mrequest\u001b[0;34m(method, url, **kwargs)\u001b[0m\n\u001b[1;32m     55\u001b[0m \u001b[38;5;66;03m# By using the 'with' statement we are sure the session is closed, thus we\u001b[39;00m\n\u001b[1;32m     56\u001b[0m \u001b[38;5;66;03m# avoid leaving sockets open which can trigger a ResourceWarning in some\u001b[39;00m\n\u001b[1;32m     57\u001b[0m \u001b[38;5;66;03m# cases, and look like a memory leak in others.\u001b[39;00m\n\u001b[1;32m     58\u001b[0m \u001b[38;5;28;01mwith\u001b[39;00m sessions\u001b[38;5;241m.\u001b[39mSession() \u001b[38;5;28;01mas\u001b[39;00m session:\n\u001b[0;32m---> 59\u001b[0m     \u001b[38;5;28;01mreturn\u001b[39;00m \u001b[43msession\u001b[49m\u001b[38;5;241;43m.\u001b[39;49m\u001b[43mrequest\u001b[49m\u001b[43m(\u001b[49m\u001b[43mmethod\u001b[49m\u001b[38;5;241;43m=\u001b[39;49m\u001b[43mmethod\u001b[49m\u001b[43m,\u001b[49m\u001b[43m \u001b[49m\u001b[43murl\u001b[49m\u001b[38;5;241;43m=\u001b[39;49m\u001b[43murl\u001b[49m\u001b[43m,\u001b[49m\u001b[43m \u001b[49m\u001b[38;5;241;43m*\u001b[39;49m\u001b[38;5;241;43m*\u001b[39;49m\u001b[43mkwargs\u001b[49m\u001b[43m)\u001b[49m\n",
      "File \u001b[0;32m/Library/Frameworks/Python.framework/Versions/3.10/lib/python3.10/site-packages/requests/sessions.py:589\u001b[0m, in \u001b[0;36mSession.request\u001b[0;34m(self, method, url, params, data, headers, cookies, files, auth, timeout, allow_redirects, proxies, hooks, stream, verify, cert, json)\u001b[0m\n\u001b[1;32m    584\u001b[0m send_kwargs \u001b[38;5;241m=\u001b[39m {\n\u001b[1;32m    585\u001b[0m     \u001b[38;5;124m\"\u001b[39m\u001b[38;5;124mtimeout\u001b[39m\u001b[38;5;124m\"\u001b[39m: timeout,\n\u001b[1;32m    586\u001b[0m     \u001b[38;5;124m\"\u001b[39m\u001b[38;5;124mallow_redirects\u001b[39m\u001b[38;5;124m\"\u001b[39m: allow_redirects,\n\u001b[1;32m    587\u001b[0m }\n\u001b[1;32m    588\u001b[0m send_kwargs\u001b[38;5;241m.\u001b[39mupdate(settings)\n\u001b[0;32m--> 589\u001b[0m resp \u001b[38;5;241m=\u001b[39m \u001b[38;5;28;43mself\u001b[39;49m\u001b[38;5;241;43m.\u001b[39;49m\u001b[43msend\u001b[49m\u001b[43m(\u001b[49m\u001b[43mprep\u001b[49m\u001b[43m,\u001b[49m\u001b[43m \u001b[49m\u001b[38;5;241;43m*\u001b[39;49m\u001b[38;5;241;43m*\u001b[39;49m\u001b[43msend_kwargs\u001b[49m\u001b[43m)\u001b[49m\n\u001b[1;32m    591\u001b[0m \u001b[38;5;28;01mreturn\u001b[39;00m resp\n",
      "File \u001b[0;32m/Library/Frameworks/Python.framework/Versions/3.10/lib/python3.10/site-packages/requests/sessions.py:703\u001b[0m, in \u001b[0;36mSession.send\u001b[0;34m(self, request, **kwargs)\u001b[0m\n\u001b[1;32m    700\u001b[0m start \u001b[38;5;241m=\u001b[39m preferred_clock()\n\u001b[1;32m    702\u001b[0m \u001b[38;5;66;03m# Send the request\u001b[39;00m\n\u001b[0;32m--> 703\u001b[0m r \u001b[38;5;241m=\u001b[39m \u001b[43madapter\u001b[49m\u001b[38;5;241;43m.\u001b[39;49m\u001b[43msend\u001b[49m\u001b[43m(\u001b[49m\u001b[43mrequest\u001b[49m\u001b[43m,\u001b[49m\u001b[43m \u001b[49m\u001b[38;5;241;43m*\u001b[39;49m\u001b[38;5;241;43m*\u001b[39;49m\u001b[43mkwargs\u001b[49m\u001b[43m)\u001b[49m\n\u001b[1;32m    705\u001b[0m \u001b[38;5;66;03m# Total elapsed time of the request (approximately)\u001b[39;00m\n\u001b[1;32m    706\u001b[0m elapsed \u001b[38;5;241m=\u001b[39m preferred_clock() \u001b[38;5;241m-\u001b[39m start\n",
      "File \u001b[0;32m/Library/Frameworks/Python.framework/Versions/3.10/lib/python3.10/site-packages/requests/adapters.py:486\u001b[0m, in \u001b[0;36mHTTPAdapter.send\u001b[0;34m(self, request, stream, timeout, verify, cert, proxies)\u001b[0m\n\u001b[1;32m    483\u001b[0m     timeout \u001b[38;5;241m=\u001b[39m TimeoutSauce(connect\u001b[38;5;241m=\u001b[39mtimeout, read\u001b[38;5;241m=\u001b[39mtimeout)\n\u001b[1;32m    485\u001b[0m \u001b[38;5;28;01mtry\u001b[39;00m:\n\u001b[0;32m--> 486\u001b[0m     resp \u001b[38;5;241m=\u001b[39m \u001b[43mconn\u001b[49m\u001b[38;5;241;43m.\u001b[39;49m\u001b[43murlopen\u001b[49m\u001b[43m(\u001b[49m\n\u001b[1;32m    487\u001b[0m \u001b[43m        \u001b[49m\u001b[43mmethod\u001b[49m\u001b[38;5;241;43m=\u001b[39;49m\u001b[43mrequest\u001b[49m\u001b[38;5;241;43m.\u001b[39;49m\u001b[43mmethod\u001b[49m\u001b[43m,\u001b[49m\n\u001b[1;32m    488\u001b[0m \u001b[43m        \u001b[49m\u001b[43murl\u001b[49m\u001b[38;5;241;43m=\u001b[39;49m\u001b[43murl\u001b[49m\u001b[43m,\u001b[49m\n\u001b[1;32m    489\u001b[0m \u001b[43m        \u001b[49m\u001b[43mbody\u001b[49m\u001b[38;5;241;43m=\u001b[39;49m\u001b[43mrequest\u001b[49m\u001b[38;5;241;43m.\u001b[39;49m\u001b[43mbody\u001b[49m\u001b[43m,\u001b[49m\n\u001b[1;32m    490\u001b[0m \u001b[43m        \u001b[49m\u001b[43mheaders\u001b[49m\u001b[38;5;241;43m=\u001b[39;49m\u001b[43mrequest\u001b[49m\u001b[38;5;241;43m.\u001b[39;49m\u001b[43mheaders\u001b[49m\u001b[43m,\u001b[49m\n\u001b[1;32m    491\u001b[0m \u001b[43m        \u001b[49m\u001b[43mredirect\u001b[49m\u001b[38;5;241;43m=\u001b[39;49m\u001b[38;5;28;43;01mFalse\u001b[39;49;00m\u001b[43m,\u001b[49m\n\u001b[1;32m    492\u001b[0m \u001b[43m        \u001b[49m\u001b[43massert_same_host\u001b[49m\u001b[38;5;241;43m=\u001b[39;49m\u001b[38;5;28;43;01mFalse\u001b[39;49;00m\u001b[43m,\u001b[49m\n\u001b[1;32m    493\u001b[0m \u001b[43m        \u001b[49m\u001b[43mpreload_content\u001b[49m\u001b[38;5;241;43m=\u001b[39;49m\u001b[38;5;28;43;01mFalse\u001b[39;49;00m\u001b[43m,\u001b[49m\n\u001b[1;32m    494\u001b[0m \u001b[43m        \u001b[49m\u001b[43mdecode_content\u001b[49m\u001b[38;5;241;43m=\u001b[39;49m\u001b[38;5;28;43;01mFalse\u001b[39;49;00m\u001b[43m,\u001b[49m\n\u001b[1;32m    495\u001b[0m \u001b[43m        \u001b[49m\u001b[43mretries\u001b[49m\u001b[38;5;241;43m=\u001b[39;49m\u001b[38;5;28;43mself\u001b[39;49m\u001b[38;5;241;43m.\u001b[39;49m\u001b[43mmax_retries\u001b[49m\u001b[43m,\u001b[49m\n\u001b[1;32m    496\u001b[0m \u001b[43m        \u001b[49m\u001b[43mtimeout\u001b[49m\u001b[38;5;241;43m=\u001b[39;49m\u001b[43mtimeout\u001b[49m\u001b[43m,\u001b[49m\n\u001b[1;32m    497\u001b[0m \u001b[43m        \u001b[49m\u001b[43mchunked\u001b[49m\u001b[38;5;241;43m=\u001b[39;49m\u001b[43mchunked\u001b[49m\u001b[43m,\u001b[49m\n\u001b[1;32m    498\u001b[0m \u001b[43m    \u001b[49m\u001b[43m)\u001b[49m\n\u001b[1;32m    500\u001b[0m \u001b[38;5;28;01mexcept\u001b[39;00m (ProtocolError, \u001b[38;5;167;01mOSError\u001b[39;00m) \u001b[38;5;28;01mas\u001b[39;00m err:\n\u001b[1;32m    501\u001b[0m     \u001b[38;5;28;01mraise\u001b[39;00m \u001b[38;5;167;01mConnectionError\u001b[39;00m(err, request\u001b[38;5;241m=\u001b[39mrequest)\n",
      "File \u001b[0;32m/Library/Frameworks/Python.framework/Versions/3.10/lib/python3.10/site-packages/urllib3/connectionpool.py:790\u001b[0m, in \u001b[0;36mHTTPConnectionPool.urlopen\u001b[0;34m(self, method, url, body, headers, retries, redirect, assert_same_host, timeout, pool_timeout, release_conn, chunked, body_pos, preload_content, decode_content, **response_kw)\u001b[0m\n\u001b[1;32m    787\u001b[0m response_conn \u001b[38;5;241m=\u001b[39m conn \u001b[38;5;28;01mif\u001b[39;00m \u001b[38;5;129;01mnot\u001b[39;00m release_conn \u001b[38;5;28;01melse\u001b[39;00m \u001b[38;5;28;01mNone\u001b[39;00m\n\u001b[1;32m    789\u001b[0m \u001b[38;5;66;03m# Make the request on the HTTPConnection object\u001b[39;00m\n\u001b[0;32m--> 790\u001b[0m response \u001b[38;5;241m=\u001b[39m \u001b[38;5;28;43mself\u001b[39;49m\u001b[38;5;241;43m.\u001b[39;49m\u001b[43m_make_request\u001b[49m\u001b[43m(\u001b[49m\n\u001b[1;32m    791\u001b[0m \u001b[43m    \u001b[49m\u001b[43mconn\u001b[49m\u001b[43m,\u001b[49m\n\u001b[1;32m    792\u001b[0m \u001b[43m    \u001b[49m\u001b[43mmethod\u001b[49m\u001b[43m,\u001b[49m\n\u001b[1;32m    793\u001b[0m \u001b[43m    \u001b[49m\u001b[43murl\u001b[49m\u001b[43m,\u001b[49m\n\u001b[1;32m    794\u001b[0m \u001b[43m    \u001b[49m\u001b[43mtimeout\u001b[49m\u001b[38;5;241;43m=\u001b[39;49m\u001b[43mtimeout_obj\u001b[49m\u001b[43m,\u001b[49m\n\u001b[1;32m    795\u001b[0m \u001b[43m    \u001b[49m\u001b[43mbody\u001b[49m\u001b[38;5;241;43m=\u001b[39;49m\u001b[43mbody\u001b[49m\u001b[43m,\u001b[49m\n\u001b[1;32m    796\u001b[0m \u001b[43m    \u001b[49m\u001b[43mheaders\u001b[49m\u001b[38;5;241;43m=\u001b[39;49m\u001b[43mheaders\u001b[49m\u001b[43m,\u001b[49m\n\u001b[1;32m    797\u001b[0m \u001b[43m    \u001b[49m\u001b[43mchunked\u001b[49m\u001b[38;5;241;43m=\u001b[39;49m\u001b[43mchunked\u001b[49m\u001b[43m,\u001b[49m\n\u001b[1;32m    798\u001b[0m \u001b[43m    \u001b[49m\u001b[43mretries\u001b[49m\u001b[38;5;241;43m=\u001b[39;49m\u001b[43mretries\u001b[49m\u001b[43m,\u001b[49m\n\u001b[1;32m    799\u001b[0m \u001b[43m    \u001b[49m\u001b[43mresponse_conn\u001b[49m\u001b[38;5;241;43m=\u001b[39;49m\u001b[43mresponse_conn\u001b[49m\u001b[43m,\u001b[49m\n\u001b[1;32m    800\u001b[0m \u001b[43m    \u001b[49m\u001b[43mpreload_content\u001b[49m\u001b[38;5;241;43m=\u001b[39;49m\u001b[43mpreload_content\u001b[49m\u001b[43m,\u001b[49m\n\u001b[1;32m    801\u001b[0m \u001b[43m    \u001b[49m\u001b[43mdecode_content\u001b[49m\u001b[38;5;241;43m=\u001b[39;49m\u001b[43mdecode_content\u001b[49m\u001b[43m,\u001b[49m\n\u001b[1;32m    802\u001b[0m \u001b[43m    \u001b[49m\u001b[38;5;241;43m*\u001b[39;49m\u001b[38;5;241;43m*\u001b[39;49m\u001b[43mresponse_kw\u001b[49m\u001b[43m,\u001b[49m\n\u001b[1;32m    803\u001b[0m \u001b[43m\u001b[49m\u001b[43m)\u001b[49m\n\u001b[1;32m    805\u001b[0m \u001b[38;5;66;03m# Everything went great!\u001b[39;00m\n\u001b[1;32m    806\u001b[0m clean_exit \u001b[38;5;241m=\u001b[39m \u001b[38;5;28;01mTrue\u001b[39;00m\n",
      "File \u001b[0;32m/Library/Frameworks/Python.framework/Versions/3.10/lib/python3.10/site-packages/urllib3/connectionpool.py:536\u001b[0m, in \u001b[0;36mHTTPConnectionPool._make_request\u001b[0;34m(self, conn, method, url, body, headers, retries, timeout, chunked, response_conn, preload_content, decode_content, enforce_content_length)\u001b[0m\n\u001b[1;32m    534\u001b[0m \u001b[38;5;66;03m# Receive the response from the server\u001b[39;00m\n\u001b[1;32m    535\u001b[0m \u001b[38;5;28;01mtry\u001b[39;00m:\n\u001b[0;32m--> 536\u001b[0m     response \u001b[38;5;241m=\u001b[39m \u001b[43mconn\u001b[49m\u001b[38;5;241;43m.\u001b[39;49m\u001b[43mgetresponse\u001b[49m\u001b[43m(\u001b[49m\u001b[43m)\u001b[49m\n\u001b[1;32m    537\u001b[0m \u001b[38;5;28;01mexcept\u001b[39;00m (BaseSSLError, \u001b[38;5;167;01mOSError\u001b[39;00m) \u001b[38;5;28;01mas\u001b[39;00m e:\n\u001b[1;32m    538\u001b[0m     \u001b[38;5;28mself\u001b[39m\u001b[38;5;241m.\u001b[39m_raise_timeout(err\u001b[38;5;241m=\u001b[39me, url\u001b[38;5;241m=\u001b[39murl, timeout_value\u001b[38;5;241m=\u001b[39mread_timeout)\n",
      "File \u001b[0;32m/Library/Frameworks/Python.framework/Versions/3.10/lib/python3.10/site-packages/urllib3/connection.py:461\u001b[0m, in \u001b[0;36mHTTPConnection.getresponse\u001b[0;34m(self)\u001b[0m\n\u001b[1;32m    458\u001b[0m \u001b[38;5;28;01mfrom\u001b[39;00m \u001b[38;5;21;01m.\u001b[39;00m\u001b[38;5;21;01mresponse\u001b[39;00m \u001b[38;5;28;01mimport\u001b[39;00m HTTPResponse\n\u001b[1;32m    460\u001b[0m \u001b[38;5;66;03m# Get the response from http.client.HTTPConnection\u001b[39;00m\n\u001b[0;32m--> 461\u001b[0m httplib_response \u001b[38;5;241m=\u001b[39m \u001b[38;5;28;43msuper\u001b[39;49m\u001b[43m(\u001b[49m\u001b[43m)\u001b[49m\u001b[38;5;241;43m.\u001b[39;49m\u001b[43mgetresponse\u001b[49m\u001b[43m(\u001b[49m\u001b[43m)\u001b[49m\n\u001b[1;32m    463\u001b[0m \u001b[38;5;28;01mtry\u001b[39;00m:\n\u001b[1;32m    464\u001b[0m     assert_header_parsing(httplib_response\u001b[38;5;241m.\u001b[39mmsg)\n",
      "File \u001b[0;32m/Library/Frameworks/Python.framework/Versions/3.10/lib/python3.10/http/client.py:1368\u001b[0m, in \u001b[0;36mHTTPConnection.getresponse\u001b[0;34m(self)\u001b[0m\n\u001b[1;32m   1366\u001b[0m \u001b[38;5;28;01mtry\u001b[39;00m:\n\u001b[1;32m   1367\u001b[0m     \u001b[38;5;28;01mtry\u001b[39;00m:\n\u001b[0;32m-> 1368\u001b[0m         \u001b[43mresponse\u001b[49m\u001b[38;5;241;43m.\u001b[39;49m\u001b[43mbegin\u001b[49m\u001b[43m(\u001b[49m\u001b[43m)\u001b[49m\n\u001b[1;32m   1369\u001b[0m     \u001b[38;5;28;01mexcept\u001b[39;00m \u001b[38;5;167;01mConnectionError\u001b[39;00m:\n\u001b[1;32m   1370\u001b[0m         \u001b[38;5;28mself\u001b[39m\u001b[38;5;241m.\u001b[39mclose()\n",
      "File \u001b[0;32m/Library/Frameworks/Python.framework/Versions/3.10/lib/python3.10/http/client.py:317\u001b[0m, in \u001b[0;36mHTTPResponse.begin\u001b[0;34m(self)\u001b[0m\n\u001b[1;32m    315\u001b[0m \u001b[38;5;66;03m# read until we get a non-100 response\u001b[39;00m\n\u001b[1;32m    316\u001b[0m \u001b[38;5;28;01mwhile\u001b[39;00m \u001b[38;5;28;01mTrue\u001b[39;00m:\n\u001b[0;32m--> 317\u001b[0m     version, status, reason \u001b[38;5;241m=\u001b[39m \u001b[38;5;28;43mself\u001b[39;49m\u001b[38;5;241;43m.\u001b[39;49m\u001b[43m_read_status\u001b[49m\u001b[43m(\u001b[49m\u001b[43m)\u001b[49m\n\u001b[1;32m    318\u001b[0m     \u001b[38;5;28;01mif\u001b[39;00m status \u001b[38;5;241m!=\u001b[39m CONTINUE:\n\u001b[1;32m    319\u001b[0m         \u001b[38;5;28;01mbreak\u001b[39;00m\n",
      "File \u001b[0;32m/Library/Frameworks/Python.framework/Versions/3.10/lib/python3.10/http/client.py:278\u001b[0m, in \u001b[0;36mHTTPResponse._read_status\u001b[0;34m(self)\u001b[0m\n\u001b[1;32m    277\u001b[0m \u001b[38;5;28;01mdef\u001b[39;00m \u001b[38;5;21m_read_status\u001b[39m(\u001b[38;5;28mself\u001b[39m):\n\u001b[0;32m--> 278\u001b[0m     line \u001b[38;5;241m=\u001b[39m \u001b[38;5;28mstr\u001b[39m(\u001b[38;5;28;43mself\u001b[39;49m\u001b[38;5;241;43m.\u001b[39;49m\u001b[43mfp\u001b[49m\u001b[38;5;241;43m.\u001b[39;49m\u001b[43mreadline\u001b[49m\u001b[43m(\u001b[49m\u001b[43m_MAXLINE\u001b[49m\u001b[43m \u001b[49m\u001b[38;5;241;43m+\u001b[39;49m\u001b[43m \u001b[49m\u001b[38;5;241;43m1\u001b[39;49m\u001b[43m)\u001b[49m, \u001b[38;5;124m\"\u001b[39m\u001b[38;5;124miso-8859-1\u001b[39m\u001b[38;5;124m\"\u001b[39m)\n\u001b[1;32m    279\u001b[0m     \u001b[38;5;28;01mif\u001b[39;00m \u001b[38;5;28mlen\u001b[39m(line) \u001b[38;5;241m>\u001b[39m _MAXLINE:\n\u001b[1;32m    280\u001b[0m         \u001b[38;5;28;01mraise\u001b[39;00m LineTooLong(\u001b[38;5;124m\"\u001b[39m\u001b[38;5;124mstatus line\u001b[39m\u001b[38;5;124m\"\u001b[39m)\n",
      "File \u001b[0;32m/Library/Frameworks/Python.framework/Versions/3.10/lib/python3.10/socket.py:705\u001b[0m, in \u001b[0;36mSocketIO.readinto\u001b[0;34m(self, b)\u001b[0m\n\u001b[1;32m    703\u001b[0m \u001b[38;5;28;01mwhile\u001b[39;00m \u001b[38;5;28;01mTrue\u001b[39;00m:\n\u001b[1;32m    704\u001b[0m     \u001b[38;5;28;01mtry\u001b[39;00m:\n\u001b[0;32m--> 705\u001b[0m         \u001b[38;5;28;01mreturn\u001b[39;00m \u001b[38;5;28;43mself\u001b[39;49m\u001b[38;5;241;43m.\u001b[39;49m\u001b[43m_sock\u001b[49m\u001b[38;5;241;43m.\u001b[39;49m\u001b[43mrecv_into\u001b[49m\u001b[43m(\u001b[49m\u001b[43mb\u001b[49m\u001b[43m)\u001b[49m\n\u001b[1;32m    706\u001b[0m     \u001b[38;5;28;01mexcept\u001b[39;00m timeout:\n\u001b[1;32m    707\u001b[0m         \u001b[38;5;28mself\u001b[39m\u001b[38;5;241m.\u001b[39m_timeout_occurred \u001b[38;5;241m=\u001b[39m \u001b[38;5;28;01mTrue\u001b[39;00m\n",
      "File \u001b[0;32m/Library/Frameworks/Python.framework/Versions/3.10/lib/python3.10/ssl.py:1273\u001b[0m, in \u001b[0;36mSSLSocket.recv_into\u001b[0;34m(self, buffer, nbytes, flags)\u001b[0m\n\u001b[1;32m   1269\u001b[0m     \u001b[38;5;28;01mif\u001b[39;00m flags \u001b[38;5;241m!=\u001b[39m \u001b[38;5;241m0\u001b[39m:\n\u001b[1;32m   1270\u001b[0m         \u001b[38;5;28;01mraise\u001b[39;00m \u001b[38;5;167;01mValueError\u001b[39;00m(\n\u001b[1;32m   1271\u001b[0m           \u001b[38;5;124m\"\u001b[39m\u001b[38;5;124mnon-zero flags not allowed in calls to recv_into() on \u001b[39m\u001b[38;5;132;01m%s\u001b[39;00m\u001b[38;5;124m\"\u001b[39m \u001b[38;5;241m%\u001b[39m\n\u001b[1;32m   1272\u001b[0m           \u001b[38;5;28mself\u001b[39m\u001b[38;5;241m.\u001b[39m\u001b[38;5;18m__class__\u001b[39m)\n\u001b[0;32m-> 1273\u001b[0m     \u001b[38;5;28;01mreturn\u001b[39;00m \u001b[38;5;28;43mself\u001b[39;49m\u001b[38;5;241;43m.\u001b[39;49m\u001b[43mread\u001b[49m\u001b[43m(\u001b[49m\u001b[43mnbytes\u001b[49m\u001b[43m,\u001b[49m\u001b[43m \u001b[49m\u001b[43mbuffer\u001b[49m\u001b[43m)\u001b[49m\n\u001b[1;32m   1274\u001b[0m \u001b[38;5;28;01melse\u001b[39;00m:\n\u001b[1;32m   1275\u001b[0m     \u001b[38;5;28;01mreturn\u001b[39;00m \u001b[38;5;28msuper\u001b[39m()\u001b[38;5;241m.\u001b[39mrecv_into(buffer, nbytes, flags)\n",
      "File \u001b[0;32m/Library/Frameworks/Python.framework/Versions/3.10/lib/python3.10/ssl.py:1129\u001b[0m, in \u001b[0;36mSSLSocket.read\u001b[0;34m(self, len, buffer)\u001b[0m\n\u001b[1;32m   1127\u001b[0m \u001b[38;5;28;01mtry\u001b[39;00m:\n\u001b[1;32m   1128\u001b[0m     \u001b[38;5;28;01mif\u001b[39;00m buffer \u001b[38;5;129;01mis\u001b[39;00m \u001b[38;5;129;01mnot\u001b[39;00m \u001b[38;5;28;01mNone\u001b[39;00m:\n\u001b[0;32m-> 1129\u001b[0m         \u001b[38;5;28;01mreturn\u001b[39;00m \u001b[38;5;28;43mself\u001b[39;49m\u001b[38;5;241;43m.\u001b[39;49m\u001b[43m_sslobj\u001b[49m\u001b[38;5;241;43m.\u001b[39;49m\u001b[43mread\u001b[49m\u001b[43m(\u001b[49m\u001b[38;5;28;43mlen\u001b[39;49m\u001b[43m,\u001b[49m\u001b[43m \u001b[49m\u001b[43mbuffer\u001b[49m\u001b[43m)\u001b[49m\n\u001b[1;32m   1130\u001b[0m     \u001b[38;5;28;01melse\u001b[39;00m:\n\u001b[1;32m   1131\u001b[0m         \u001b[38;5;28;01mreturn\u001b[39;00m \u001b[38;5;28mself\u001b[39m\u001b[38;5;241m.\u001b[39m_sslobj\u001b[38;5;241m.\u001b[39mread(\u001b[38;5;28mlen\u001b[39m)\n",
      "\u001b[0;31mKeyboardInterrupt\u001b[0m: "
     ]
    }
   ],
   "source": [
    "import requests\n",
    "\n",
    "# Paste your Watson Machine Learning service apikey here\n",
    "apikey = \"5z1h-psruiL1HejXYzjOW0glrUC8CAGA4FEDXb_db1jF\"\n",
    "\n",
    "# Get an IAM token from IBM Cloud\n",
    "url = \"https://iam.cloud.ibm.com/identity/token\"\n",
    "headers = {\"Content-Type\": \"application/x-www-form-urlencoded\"}\n",
    "data = \"apikey=\" + apikey + \"&grant_type=urn:ibm:params:oauth:grant-type:apikey\"\n",
    "response = requests.post(url, headers=headers, data=data)\n",
    "iam_token = response.json()[\"access_token\"]\n",
    "\n",
    "\n"
   ]
  },
  {
   "cell_type": "code",
   "execution_count": null,
   "metadata": {},
   "outputs": [],
   "source": [
    "import requests\n",
    "\n",
    "url = \"https://us-south.ml.cloud.ibm.com/ml/v1/text/generation?version=2023-05-29\"\n",
    "\n",
    "body = {\n",
    "\t\"input\": \"\"\"[INST] <<SYS>>\n",
    "<|text 1 |>\n",
    "{name_1}: \\\"{{text_1}}\\\".\n",
    "\n",
    "<|text 2 |>\n",
    "{name_2}: \\\"{{text_2}}\\\".\n",
    "\n",
    "<|system|>\n",
    "Perform a comparison between '\\''{name_1}'\\'' and '\\''{name_2}'\\'', highlighting the key differences in both general and specific contents, including the type of document each text represents (e.g., financial statement, call transcript, interview format). Focus on significant statistical variations related to their temporal contexts, if available, and explicitly mention and compare statistical percentages when discussing increases or decreases. Present your findings in a format that emphasizes the crucial points of distinction without using titles or headings. Ensure that the comparison delves into how these differences contribute to the overall understanding of the context and implications of each summary. Assess the sentiment of each document concerning the highlights in the data of each document and contrast these analyses. The output must adhere strictly to the specified format, beginning each important point with '\\''->'\\'' and excluding titles or headings in favor of complete sentences. Use '\\''->'\\'' solely to mark the start of each key point, maintaining uniformity in the structure. Every key difference should form a complete sentence, devoid of titles or general concepts, and must be directly relevant to the article without introducing external information. Refrain from repeating key differences and always mention the document by its name. The output should be consistently translated into Spanish, and the summary should be coherent and aligned with the context of the documents.\n",
    "\n",
    "<|important|>\n",
    "- The output format must be identical to the OUTPUT FORMAT. Indicate with '\\''->'\\'' the beginning of each important point.\n",
    "- Do not add titles or headings, only complete sentences are allowed.\n",
    "- The characters '\\''->'\\'' should only be used to indicate the beginning of each key point. Do not use them elsewhere in the summary, and you cannot use another symbol to indicate the start of another point. All should be at the same level to respect the structure.\n",
    "- Each key difference must be a complete sentence; do not add titles or general concepts. You cannot divide a sentence into two key points, nor can you divide a key point into sub-points.\n",
    "- Each key difference must be relevant to the article.\n",
    "- You cannot add information that is not in the article. You can only extract information from the texts.\n",
    "- Do not repeat key differences.\n",
    "- Always refer to the document by its name.\n",
    "- The summary must be coherent and consistent with the context of the documents.\n",
    "- The output format of Verbose key differences don´t need to call all the time the name of the document, only the first time.\n",
    "- The output must always be translated into Spanish.\n",
    "\n",
    "<|output format|>\n",
    "**DIFERENCIAS:**\n",
    "-> <Verbose key difference 1>.\n",
    "-> <Verbose key difference 2>.\n",
    "-> <Verbose key difference 3>.\n",
    "-> <Verbose key difference 4>.\n",
    "-> <Verbose key difference 5>.\n",
    "-> ...\n",
    "\n",
    "-> **DOCUMENTO 1:**\n",
    "<Verbose content analysis of {name_1}>.\n",
    "\n",
    "-> **DOCUMENTO 2:**\n",
    "<Verbose content analysis of {name_2}>.\n",
    "\n",
    "#### RESUMEN DE LAS DIFERENCIAS:\n",
    "<Summary of differences content>.\n",
    "\n",
    "<|output|>\n",
    "<</SYS>>\n",
    "\n",
    "\n",
    "name_1 : Análisis_Razonado90749000_202309.pdf\n",
    "\n",
    "text_1: Los ingresos consolidados de la compañía cayeron un 9,6% a/a, principalmente debido a la disminución en los negocios de Mejoramiento del Hogar en Chile, Tiendas por Departamento en Chile y Negocios de Retail en Perú. En Chile, los ingresos de los formatos de retail disminuyeron un 15,3% a/a, con un impacto negativo en Mejoramiento del Hogar, Tiendas por Departamento y Supermercados. La venta online de retailers y sellers alcanzó MM\\$291.119 millones, con una caída del 16% a/a y una penetración online del 20%. Mallplaza registró un aumento del 16,9% a/a en ingresos debido a una mayor ocupación y la indexación a UF. En Perú, los ingresos de Mejoramiento del Hogar, Tiendas por Departamento y Supermercados experimentaron caídas, contrarrestadas parcialmente por el negocio bancario.\n",
    "\n",
    "En cuanto al resultado operacional, este fue de MM$64.877, un 3,1% menor que en el trimestre anterior, atribuido a la caída en la ganancia bruta consolidada. En Chile, el resultado operacional de los negocios retail fue una pérdida de MM$59.588, con un aumento del 170,2% a/a, principalmente por la caída en el margen de Mejoramiento del Hogar. En Banco Falabella Chile, el resultado operacional creció un 280,2%, alcanzando MM$49.942, debido a un aumento en la ganancia bruta por un menor costo por riesgo. En Perú, el resultado operacional fue de MM$42.592, con una disminución del 34,9% a/a, explicado por la caída en la ganancia bruta asociada a varios negocios. En Colombia, el resultado operacional fue una pérdida de MM$24.991, con una ganancia bruta impactada por un aumento en el costo por riesgo del negocio bancario.\n",
    "\n",
    "La pérdida neta del trimestre fue MM$4.642, representando una disminución del 72,6% con respecto al periodo comparable, con una menor contribución de algunos negocios compensada por el negocio inmobiliario. En cuanto a la deuda, el endeudamiento de los negocios no bancarios mostró una disminución del 7,7% en la deuda total bruta a MM$4.539.221 en septiembre de 2023, con una deuda neta de MM$3.597.044 y un ratio de endeudamiento neto de 1,0 veces. El patrimonio total aumentó en MM$222.031, principalmente por el resultado total del período y el incremento de las reservas por diferencias de cambio por conversión. La liquidez de la compañía al cierre de septiembre de 2023 fue de MM$2.165.067, con MM$649.839 en negocios no bancarios y MM$1.515.228 en negocios bancarios.\n",
    "\n",
    "name_2: Falabella SA Earnings Call 20231116 DN000000003027576234.pdf\n",
    "\n",
    "text_2: Falabella SA realizó su llamada de ganancias del tercer trimestre de 2023, donde participaron Alejandro Gonzalez Dale, Director Financiero; Andrea Gonzalez Bayon, Directora de Estrategia y Sostenibilidad; Gaston Bottazzini, CEO; y Raimundo Monge, Jefe de Relaciones con Inversores. Durante la presentación se destacó la apertura de seis tiendas en la región, incluyendo la primera tienda de IKEA en Colombia. Se observó una desaceleración en las tendencias de consumo y altos niveles de inflación que impactaron las operaciones, especialmente en las áreas de Mejoras para el Hogar y Grandes Tiendas en Chile, así como en el negocio minorista en Perú. Los ingresos de las Grandes Tiendas alcanzaron los \\$753 millones en el trimestre, mientras que la categoría Electro experimentó la mayor caída en ventas tanto en el canal físico como en línea. Los ingresos de Mejoras para el Hogar alcanzaron los \\$1.3 mil millones, con una disminución del 15%, y los ingresos de los Supermercados disminuyeron un 8%, alcanzando los \\$587 millones.\n",
    "\n",
    "En cuanto al lado bancario, Banco Falabella Chile se destacó como el principal emisor de tarjetas de crédito, con una cartera de préstamos que disminuyó un 9% interanual, alcanzando los $7 mil millones. El uso de tarjetas de crédito y débito aumentó un 3%, a pesar de un entorno de consumo desafiante. El programa de fidelización cuenta con casi 19 millones de participantes, y se implementaron medidas de eficiencia que generaron ahorros de $350 millones al año. Además, se anunció la venta de activos inmobiliarios no fundamentales por un monto estimado entre $800 millones y $1 mil millones, como parte de un plan para fortalecer la posición financiera de la empresa.\n",
    "\n",
    "En términos de ganancias, se mencionó que las ganancias brutas disminuyeron un 6% interanual, mientras que el EBITDA creció un 1% interanual, alcanzando los $202 millones. Los gastos de SG&A disminuyeron un 6% interanual, y la deuda financiera neta se redujo en un 5%. Se destacó un plan para aumentar la rentabilidad que incluye un enfoque en el CapEx hasta el 2024, mantener los ahorros logrados, mejorar los márgenes operativos y recaudar entre $800 millones y $1 mil millones de activos no estratégicos en un período de 12 a 15 meses. La estrategia de inversión de Falabella busca un equilibrio entre el crecimiento y la rentabilidad, con un enfoque en la gestión de márgenes y gastos generales y administrativos para lograr mejoras a pesar de las condiciones actuales de demanda. [/INST]\"\"\",\n",
    "\t\"parameters\": {\n",
    "\t\t\"decoding_method\": \"greedy\",\n",
    "\t\t\"max_new_tokens\": 4000,\n",
    "\t\t\"repetition_penalty\": 1\n",
    "\t},\n",
    "\t\"model_id\": \"meta-llama/llama-2-70b-chat\",\n",
    "\t\"project_id\": \"c4faff81-af63-4f31-820d-4e0bf3808f93\"\n",
    "}\n",
    "\n",
    "headers = {\n",
    "\t\"Accept\": \"application/json\",\n",
    "\t\"Content-Type\": \"application/json\",\n",
    "\t\"Authorization\": f\"Bearer {iam_token}\"\n",
    "}\n",
    "\n",
    "response = requests.post(\n",
    "\turl,\n",
    "\theaders=headers,\n",
    "\tjson=body\n",
    ")\n",
    "\n",
    "if response.status_code != 200:\n",
    "\traise Exception(\"Non-200 response: \" + str(response.text))\n",
    "\n",
    "data = response.json()"
   ]
  },
  {
   "cell_type": "code",
   "execution_count": null,
   "metadata": {},
   "outputs": [
    {
     "data": {
      "text/plain": [
       "['  DIFERENCIAS:',\n",
       " '',\n",
       " '-> La empresa Falabella SA presentó una disminución en los ingresos consolidados de 9,6% en el tercer trimestre de 2023, principalmente debido a la caída en los negocios de Mejoramiento del Hogar, Tiendas por Departamento y Negocios de Retail en Perú. En cambio, el llamado de ganancias de Falabella SA destacó la apertura de seis tiendas en la región y la desaceleración en las tendencias de consumo y altos niveles de inflación que impactaron las operaciones.',\n",
       " '',\n",
       " '-> En cuanto al resultado operacional, el llamado de ganancias mencionó que este fue de MM$64.877, un 3,1% menor que en el trimestre anterior, atribuido a la caída en la ganancia bruta consolidada. En cambio, el llamado de ganancias de Falabella SA destacó que el EBITDA creció un 1% interanual, alcanzando los $202 millones.',\n",
       " '',\n",
       " '-> En cuanto a la deuda, el llamado de ganancias mencionó que el endeudamiento de los negocios no bancarios mostró una disminución del 7,7% en la deuda total bruta a MM$4.539.221 en septiembre de 2023, con una deuda neta de MM$3.597.044 y un ratio de endeudamiento neto de 1,0 veces. En cambio, el llamado de ganancias de Falabella SA no mencionó información sobre la deuda.',\n",
       " '',\n",
       " '-> El llamado de ganancias mencionó que la pérdida neta del trimestre fue MM$4.642, representando una disminución del 72,6% con respecto al periodo comparable, con una menor contribución de algunos negocios compensada por el negocio inmobiliario. En cambio, el llamado de ganancias de Falabella SA no mencionó información sobre la pérdida neta.',\n",
       " '',\n",
       " '-> En cuanto a la estrategia, el llamado de ganancias mencionó que la empresa busca un equilibrio entre el crecimiento y la rentabilidad, con un enfoque en la gestión de márgenes y gastos generales y administrativos para lograr mejoras a pesar de las condiciones actuales de demanda. En cambio, el llamado de ganancias de Falabella SA destacó que la empresa tiene un plan para aumentar la rentabilidad que incluye un enfoque en el CapEx hasta el 2024, mantener los ahorros logrados, mejorar los márgenes operativos y recaudar entre $800 millones y $1 mil millones de activos no estratégicos en un período de 12 a 15 meses.',\n",
       " '',\n",
       " 'DOCUMENTO 1: Análisis Razonado 90749000 202309',\n",
       " '',\n",
       " 'En este documento, se presenta una analyza de la situación financiera de la empresa Falabella SA en el tercer trimestre de 2023. Se destaca la disminución en los ingresos consolidados y el resultado operacional, así como la caída en la deuda total bruta y el ratio de endeudamiento neto. También se menciona la pérdida neta del trimestre y la estrategia de la empresa para buscar un equilibrio entre el crecimiento y la rentabilidad.',\n",
       " '',\n",
       " 'DOCUMENTO 2: Falabella SA Earnings Call 20231116 DN000000003027576234',\n",
       " '',\n",
       " 'En este documento, se presenta una transcripción de la llamada de ganancias de Falabella SA en el tercer trimestre de 2023. Se destaca la apertura de seis tiendas en la región y la desaceleración en las tendencias de consumo y altos niveles de inflación que impactaron las operaciones. También se menciona el EBITDA, la deuda financiera neta y el plan para aumentar la rentabilidad de la empresa.']"
      ]
     },
     "execution_count": 76,
     "metadata": {},
     "output_type": "execute_result"
    }
   ],
   "source": [
    "data[\"results\"][0][\"generated_text\"].split(\"\\n\")"
   ]
  },
  {
   "cell_type": "code",
   "execution_count": null,
   "metadata": {},
   "outputs": [],
   "source": []
  },
  {
   "cell_type": "code",
   "execution_count": null,
   "metadata": {},
   "outputs": [
    {
     "name": "stdout",
     "output_type": "stream",
     "text": [
      "Requirement already satisfied: six>=1.10.0 in /Users/juanma/Library/Python/3.10/lib/python/site-packages (from lomond->ibm-watson-machine-learning>=1.0.321) (1.16.0)\n"
     ]
    }
   ],
   "source": [
    "!pip install \"ibm-watson-machine-learning>=1.0.321\" | tail -n 1"
   ]
  },
  {
   "cell_type": "code",
   "execution_count": null,
   "metadata": {},
   "outputs": [],
   "source": [
    "import getpass\n",
    "\n",
    "credentials = {\n",
    "    \"url\": \"https://us-south.ml.cloud.ibm.com\",\n",
    "    \"apikey\": getpass.getpass(\"Please enter your WML api key (hit enter): \")\n",
    "}"
   ]
  },
  {
   "cell_type": "code",
   "execution_count": null,
   "metadata": {},
   "outputs": [],
   "source": [
    "id = \"c4faff81-af63-4f31-820d-4e0bf3808f93\""
   ]
  },
  {
   "cell_type": "code",
   "execution_count": null,
   "metadata": {},
   "outputs": [],
   "source": []
  },
  {
   "cell_type": "code",
   "execution_count": null,
   "metadata": {},
   "outputs": [],
   "source": [
    "import os\n",
    "\n",
    "os.environ[\"PROJECT_ID\"] = id\n",
    "\n",
    "try:\n",
    "    project_id = os.environ[\"PROJECT_ID\"]\n",
    "except KeyError:\n",
    "    project_id = input(\"Please enter your project_id (hit enter):\")"
   ]
  },
  {
   "cell_type": "code",
   "execution_count": null,
   "metadata": {},
   "outputs": [
    {
     "name": "stdout",
     "output_type": "stream",
     "text": [
      "['FLAN_T5_XXL', 'FLAN_UL2', 'MT0_XXL', 'GPT_NEOX', 'MPT_7B_INSTRUCT2', 'STARCODER', 'LLAMA_2_70B_CHAT', 'LLAMA_2_13B_CHAT', 'GRANITE_13B_INSTRUCT', 'GRANITE_13B_CHAT', 'FLAN_T5_XL', 'GRANITE_13B_CHAT_V2', 'GRANITE_13B_INSTRUCT_V2', 'ELYZA_JAPANESE_LLAMA_2_7B_INSTRUCT']\n"
     ]
    }
   ],
   "source": [
    "from ibm_watson_machine_learning.foundation_models.utils.enums import ModelTypes\n",
    "\n",
    "print([model.name for model in ModelTypes])"
   ]
  },
  {
   "cell_type": "code",
   "execution_count": null,
   "metadata": {},
   "outputs": [],
   "source": [
    "model_id = ModelTypes.LLAMA_2_70B_CHAT"
   ]
  },
  {
   "cell_type": "code",
   "execution_count": null,
   "metadata": {},
   "outputs": [],
   "source": [
    "from ibm_watson_machine_learning.metanames import GenTextParamsMetaNames as GenParams\n",
    "\n",
    "parameters = {\n",
    "    GenParams.DECODING_METHOD: \"greedy\",\n",
    "    GenParams.MAX_NEW_TOKENS: 4000,\n",
    "    GenParams.STOP_SEQUENCES: [\"\\n\\n\"]\n",
    "}"
   ]
  },
  {
   "cell_type": "code",
   "execution_count": null,
   "metadata": {},
   "outputs": [],
   "source": [
    "from ibm_watson_machine_learning.foundation_models import Model\n",
    "\n",
    "model = Model(\n",
    "    model_id=model_id, \n",
    "    params=parameters, \n",
    "    credentials=credentials,\n",
    "    project_id=project_id)"
   ]
  },
  {
   "cell_type": "code",
   "execution_count": null,
   "metadata": {},
   "outputs": [
    {
     "data": {
      "text/plain": [
       "{'model_id': 'meta-llama/llama-2-70b-chat',\n",
       " 'label': 'llama-2-70b-chat',\n",
       " 'provider': 'Meta',\n",
       " 'source': 'Hugging Face',\n",
       " 'short_description': 'Llama-2-70b-chat is an auto-regressive language model that uses an optimized transformer architecture.',\n",
       " 'long_description': 'Llama-2-70b-chat is a pretrained and fine-tuned generative text model with 70 billion parameters, optimized for dialogue use cases.',\n",
       " 'tier': 'class_2',\n",
       " 'number_params': '70b',\n",
       " 'min_shot_size': 1,\n",
       " 'task_ids': ['question_answering',\n",
       "  'summarization',\n",
       "  'retrieval_augmented_generation',\n",
       "  'classification',\n",
       "  'generation',\n",
       "  'code',\n",
       "  'extraction'],\n",
       " 'tasks': [{'id': 'question_answering', 'ratings': {'quality': 4}},\n",
       "  {'id': 'summarization', 'ratings': {'quality': 3}},\n",
       "  {'id': 'retrieval_augmented_generation', 'ratings': {'quality': 4}},\n",
       "  {'id': 'classification', 'ratings': {'quality': 4}},\n",
       "  {'id': 'generation'},\n",
       "  {'id': 'code'},\n",
       "  {'id': 'extraction', 'ratings': {'quality': 4}}],\n",
       " 'model_limits': {'max_sequence_length': 4096},\n",
       " 'limits': {'lite': {'call_time': '5m0s', 'max_output_tokens': 900},\n",
       "  'v2-professional': {'call_time': '5m0s', 'max_output_tokens': 4095},\n",
       "  'v2-standard': {'call_time': '5m0s', 'max_output_tokens': 4095}},\n",
       " 'lifecycle': [{'id': 'available', 'start_date': '2023-09-07'}]}"
      ]
     },
     "execution_count": 68,
     "metadata": {},
     "output_type": "execute_result"
    }
   ],
   "source": [
    "model.get_details()"
   ]
  },
  {
   "cell_type": "code",
   "execution_count": null,
   "metadata": {},
   "outputs": [],
   "source": [
    "instruction = \"\"\"\n",
    "<|text 1 |>\n",
    "{name_1}: \"{{text_1}}\".\n",
    "\n",
    "<|text 2 |>\n",
    "{name_2}: \"{{text_2}}\".\n",
    "\n",
    "<|system|>\n",
    "Perform a comparison between '{name_1}' and '{name_2}', highlighting the key differences in both general and specific contents, including the type of document each text represents (e.g., financial statement, call transcript, interview format). Focus on significant statistical variations related to their temporal contexts, if available, and explicitly mention and compare statistical percentages when discussing increases or decreases. Present your findings in a format that emphasizes the crucial points of distinction without using titles or headings. Ensure that the comparison delves into how these differences contribute to the overall understanding of the context and implications of each summary. Assess the sentiment of each document concerning the highlights in the data of each document and contrast these analyses. The output must adhere strictly to the specified format, beginning each important point with '->' and excluding titles or headings in favor of complete sentences. Use '->' solely to mark the start of each key point, maintaining uniformity in the structure. Every key difference should form a complete sentence, devoid of titles or general concepts, and must be directly relevant to the article without introducing external information. Refrain from repeating key differences and always mention the document by its name. The output should be consistently translated into Spanish, and the summary should be coherent and aligned with the context of the documents.\n",
    "\n",
    "<|important|>\n",
    "- The output format must be identical to the OUTPUT FORMAT. Indicate with '->' the beginning of each important point.\n",
    "- Do not add titles or headings, only complete sentences are allowed.\n",
    "- The characters '->' should only be used to indicate the beginning of each key point. Do not use them elsewhere in the summary, and you cannot use another symbol to indicate the start of another point. All should be at the same level to respect the structure.\n",
    "- Each key difference must be a complete sentence; do not add titles or general concepts. You cannot divide a sentence into two key points, nor can you divide a key point into sub-points.\n",
    "- Each key difference must be relevant to the article.\n",
    "- You cannot add information that is not in the article. You can only extract information from the texts.\n",
    "- Do not repeat key differences.\n",
    "- Always refer to the document by its name.\n",
    "- The summary must be coherent and consistent with the context of the documents.\n",
    "- The output format of Verbose key differences don´t need to call all the time the name of the document, only the first time.\n",
    "- The output must always be translated into Spanish.\n",
    "\n",
    "<|output format|>\n",
    "**DIFERENCIAS:**\n",
    "-> <Verbose key difference 1>.\n",
    "-> <Verbose key difference 2>.\n",
    "-> <Verbose key difference 3>.\n",
    "-> <Verbose key difference 4>.\n",
    "-> <Verbose key difference 5>.\n",
    "-> ...\n",
    "\n",
    "-> **DOCUMENTO 1:**\n",
    "<Verbose content analysis of {name_1}>.\n",
    "\n",
    "-> **DOCUMENTO 2:**\n",
    "<Verbose content analysis of {name_2}>.\n",
    "\n",
    "#### RESUMEN DE LAS DIFERENCIAS:\n",
    "<Summary of differences content>.\n",
    "\n",
    "<|input|>\n",
    "\"\"\"\n",
    "\n",
    "\n"
   ]
  },
  {
   "cell_type": "code",
   "execution_count": null,
   "metadata": {},
   "outputs": [],
   "source": [
    "question = \"\"\"name_1 : Análisis_Razonado90749000_202309.pdf\n",
    "\n",
    "text_1: Los ingresos consolidados de la compañía cayeron un 9,6% a/a, principalmente debido a la disminución en los negocios de Mejoramiento del Hogar en Chile, Tiendas por Departamento en Chile y Negocios de Retail en Perú. En Chile, los ingresos de los formatos de retail disminuyeron un 15,3% a/a, con un impacto negativo en Mejoramiento del Hogar, Tiendas por Departamento y Supermercados. La venta online de retailers y sellers alcanzó MM\\$291.119 millones, con una caída del 16% a/a y una penetración online del 20%. Mallplaza registró un aumento del 16,9% a/a en ingresos debido a una mayor ocupación y la indexación a UF. En Perú, los ingresos de Mejoramiento del Hogar, Tiendas por Departamento y Supermercados experimentaron caídas, contrarrestadas parcialmente por el negocio bancario.\n",
    "En cuanto al resultado operacional, este fue de MM$64.877, un 3,1% menor que en el trimestre anterior, atribuido a la caída en la ganancia bruta consolidada. En Chile, el resultado operacional de los negocios retail fue una pérdida de MM$59.588, con un aumento del 170,2% a/a, principalmente por la caída en el margen de Mejoramiento del Hogar. En Banco Falabella Chile, el resultado operacional creció un 280,2%, alcanzando MM$49.942, debido a un aumento en la ganancia bruta por un menor costo por riesgo. En Perú, el resultado operacional fue de MM$42.592, con una disminución del 34,9% a/a, explicado por la caída en la ganancia bruta asociada a varios negocios. En Colombia, el resultado operacional fue una pérdida de MM$24.991, con una ganancia bruta impactada por un aumento en el costo por riesgo del negocio bancario.\n",
    "La pérdida neta del trimestre fue MM$4.642, representando una disminución del 72,6% con respecto al periodo comparable, con una menor contribución de algunos negocios compensada por el negocio inmobiliario. En cuanto a la deuda, el endeudamiento de los negocios no bancarios mostró una disminución del 7,7% en la deuda total bruta a MM$4.539.221 en septiembre de 2023, con una deuda neta de MM$3.597.044 y un ratio de endeudamiento neto de 1,0 veces. El patrimonio total aumentó en MM$222.031, principalmente por el resultado total del período y el incremento de las reservas por diferencias de cambio por conversión. La liquidez de la compañía al cierre de septiembre de 2023 fue de MM$2.165.067, con MM$649.839 en negocios no bancarios y MM$1.515.228 en negocios bancarios.\n",
    "\n",
    "name_2: Falabella SA Earnings Call 20231116 DN000000003027576234.pdf\n",
    "\n",
    "text_2: Falabella SA realizó su llamada de ganancias del tercer trimestre de 2023, donde participaron Alejandro Gonzalez Dale, Director Financiero; Andrea Gonzalez Bayon, Directora de Estrategia y Sostenibilidad; Gaston Bottazzini, CEO; y Raimundo Monge, Jefe de Relaciones con Inversores. Durante la presentación se destacó la apertura de seis tiendas en la región, incluyendo la primera tienda de IKEA en Colombia. Se observó una desaceleración en las tendencias de consumo y altos niveles de inflación que impactaron las operaciones, especialmente en las áreas de Mejoras para el Hogar y Grandes Tiendas en Chile, así como en el negocio minorista en Perú. Los ingresos de las Grandes Tiendas alcanzaron los \\$753 millones en el trimestre, mientras que la categoría Electro experimentó la mayor caída en ventas tanto en el canal físico como en línea. Los ingresos de Mejoras para el Hogar alcanzaron los \\$1.3 mil millones, con una disminución del 15%, y los ingresos de los Supermercados disminuyeron un 8%, alcanzando los \\$587 millones.\n",
    "En cuanto al lado bancario, Banco Falabella Chile se destacó como el principal emisor de tarjetas de crédito, con una cartera de préstamos que disminuyó un 9% interanual, alcanzando los $7 mil millones. El uso de tarjetas de crédito y débito aumentó un 3%, a pesar de un entorno de consumo desafiante. El programa de fidelización cuenta con casi 19 millones de participantes, y se implementaron medidas de eficiencia que generaron ahorros de $350 millones al año. Además, se anunció la venta de activos inmobiliarios no fundamentales por un monto estimado entre $800 millones y $1 mil millones, como parte de un plan para fortalecer la posición financiera de la empresa.\n",
    "En términos de ganancias, se mencionó que las ganancias brutas disminuyeron un 6% interanual, mientras que el EBITDA creció un 1% interanual, alcanzando los $202 millones. Los gastos de SG&A disminuyeron un 6% interanual, y la deuda financiera neta se redujo en un 5%. Se destacó un plan para aumentar la rentabilidad que incluye un enfoque en el CapEx hasta el 2024, mantener los ahorros logrados, mejorar los márgenes operativos y recaudar entre $800 millones y $1 mil millones de activos no estratégicos en un período de 12 a 15 meses. La estrategia de inversión de Falabella busca un equilibrio entre el crecimiento y la rentabilidad, con un enfoque en la gestión de márgenes y gastos generales y administrativos para lograr mejoras a pesar de las condiciones actuales de demanda.\"\"\""
   ]
  },
  {
   "cell_type": "code",
   "execution_count": null,
   "metadata": {},
   "outputs": [],
   "source": [
    "result = model.generate_text(\" \".join([instruction, question]))"
   ]
  },
  {
   "cell_type": "code",
   "execution_count": null,
   "metadata": {},
   "outputs": [
    {
     "name": "stdout",
     "output_type": "stream",
     "text": [
      "\n",
      "\n",
      "\n"
     ]
    }
   ],
   "source": [
    "print(result)"
   ]
  },
  {
   "cell_type": "code",
   "execution_count": null,
   "metadata": {},
   "outputs": [
    {
     "name": "stdout",
     "output_type": "stream",
     "text": [
      "Collecting SpeechRecognition\n",
      "  Using cached SpeechRecognition-3.10.1-py2.py3-none-any.whl.metadata (28 kB)\n",
      "Collecting pyaudio\n",
      "  Using cached PyAudio-0.2.14.tar.gz (47 kB)\n",
      "  Installing build dependencies ... \u001b[?25ldone\n",
      "\u001b[?25h  Getting requirements to build wheel ... \u001b[?25ldone\n",
      "\u001b[?25h  Preparing metadata (pyproject.toml) ... \u001b[?25ldone\n",
      "\u001b[?25hRequirement already satisfied: requests>=2.26.0 in /Library/Frameworks/Python.framework/Versions/3.10/lib/python3.10/site-packages (from SpeechRecognition) (2.31.0)\n",
      "Requirement already satisfied: typing-extensions in /Library/Frameworks/Python.framework/Versions/3.10/lib/python3.10/site-packages (from SpeechRecognition) (4.9.0)\n",
      "Requirement already satisfied: charset-normalizer<4,>=2 in /Library/Frameworks/Python.framework/Versions/3.10/lib/python3.10/site-packages (from requests>=2.26.0->SpeechRecognition) (3.3.2)\n",
      "Requirement already satisfied: idna<4,>=2.5 in /Library/Frameworks/Python.framework/Versions/3.10/lib/python3.10/site-packages (from requests>=2.26.0->SpeechRecognition) (3.6)\n",
      "Requirement already satisfied: urllib3<3,>=1.21.1 in /Library/Frameworks/Python.framework/Versions/3.10/lib/python3.10/site-packages (from requests>=2.26.0->SpeechRecognition) (2.1.0)\n",
      "Requirement already satisfied: certifi>=2017.4.17 in /Library/Frameworks/Python.framework/Versions/3.10/lib/python3.10/site-packages (from requests>=2.26.0->SpeechRecognition) (2023.11.17)\n",
      "Downloading SpeechRecognition-3.10.1-py2.py3-none-any.whl (32.8 MB)\n",
      "\u001b[2K   \u001b[90m━━━━━━━━━━━━━━━━━━━━━━━━━━━━━━━━━━━━━━━━\u001b[0m \u001b[32m32.8/32.8 MB\u001b[0m \u001b[31m25.7 MB/s\u001b[0m eta \u001b[36m0:00:00\u001b[0m00:01\u001b[0m00:01\u001b[0m\n",
      "\u001b[?25hBuilding wheels for collected packages: pyaudio\n",
      "  Building wheel for pyaudio (pyproject.toml) ... \u001b[?25ldone\n",
      "\u001b[?25h  Created wheel for pyaudio: filename=PyAudio-0.2.14-cp310-cp310-macosx_10_9_universal2.whl size=39269 sha256=c9b3eb455cdaf091fd29249e910fad7d9dd0d2d493fd46bec8ef5f6bfde3e0e4\n",
      "  Stored in directory: /Users/juanma/Library/Caches/pip/wheels/d6/21/f4/0b51d41ba79e51b16295cbb096ec49f334792814d545b508c5\n",
      "Successfully built pyaudio\n",
      "Installing collected packages: pyaudio, SpeechRecognition\n",
      "Successfully installed SpeechRecognition-3.10.1 pyaudio-0.2.14\n"
     ]
    }
   ],
   "source": [
    "!pip install SpeechRecognition pyaudio\n"
   ]
  },
  {
   "cell_type": "code",
   "execution_count": 9,
   "metadata": {},
   "outputs": [],
   "source": [
    "import speech_recognition as sr\n",
    "\n",
    "def detect_wake_word():\n",
    "    recognizer = sr.Recognizer()\n",
    "    microphone = sr.Microphone()\n",
    "\n",
    "    with microphone as source:\n",
    "        print(\"Ajustando ruido de fondo...\")\n",
    "        recognizer.adjust_for_ambient_noise(source)\n",
    "\n",
    "        while True:\n",
    "            print(\"Escuchando...\")\n",
    "            audio = recognizer.listen(source,timeout=2)\n",
    "\n",
    "            try:\n",
    "                # Cambia \"es-ES\" por el código de tu idioma si es necesario\n",
    "                text = recognizer.recognize_google(audio, language=\"es-ES\")\n",
    "                print(f\"Reconocido: {text}\")\n",
    "\n",
    "                if \"oye irina\" in text.lower():\n",
    "                    print(\"HOLAAAA\")\n",
    "                    # Aquí puedes activar cualquier evento que desees\n",
    "\n",
    "            except sr.UnknownValueError:\n",
    "                print(\"No se entendió el audio\")\n",
    "            except sr.RequestError as e:\n",
    "                print(f\"Error en el servicio de Google; {e}\")"
   ]
  },
  {
   "cell_type": "code",
   "execution_count": 10,
   "metadata": {},
   "outputs": [
    {
     "name": "stdout",
     "output_type": "stream",
     "text": [
      "Ajustando ruido de fondo...\n",
      "Escuchando...\n",
      "Reconocido: Irina\n",
      "Escuchando...\n",
      "Reconocido: Oye Irina comienzo con un micrófono así de bueno no hace falta entrenar un modelo\n",
      "HOLAAAA\n",
      "Escuchando...\n"
     ]
    },
    {
     "ename": "KeyboardInterrupt",
     "evalue": "",
     "output_type": "error",
     "traceback": [
      "\u001b[0;31m---------------------------------------------------------------------------\u001b[0m",
      "\u001b[0;31mKeyboardInterrupt\u001b[0m                         Traceback (most recent call last)",
      "Cell \u001b[0;32mIn[10], line 2\u001b[0m\n\u001b[1;32m      1\u001b[0m \u001b[38;5;28;01mif\u001b[39;00m \u001b[38;5;18m__name__\u001b[39m \u001b[38;5;241m==\u001b[39m \u001b[38;5;124m\"\u001b[39m\u001b[38;5;124m__main__\u001b[39m\u001b[38;5;124m\"\u001b[39m:\n\u001b[0;32m----> 2\u001b[0m     \u001b[43mdetect_wake_word\u001b[49m\u001b[43m(\u001b[49m\u001b[43m)\u001b[49m\n",
      "Cell \u001b[0;32mIn[9], line 17\u001b[0m, in \u001b[0;36mdetect_wake_word\u001b[0;34m()\u001b[0m\n\u001b[1;32m     13\u001b[0m audio \u001b[38;5;241m=\u001b[39m recognizer\u001b[38;5;241m.\u001b[39mlisten(source,timeout\u001b[38;5;241m=\u001b[39m\u001b[38;5;241m2\u001b[39m)\n\u001b[1;32m     15\u001b[0m \u001b[38;5;28;01mtry\u001b[39;00m:\n\u001b[1;32m     16\u001b[0m     \u001b[38;5;66;03m# Cambia \"es-ES\" por el código de tu idioma si es necesario\u001b[39;00m\n\u001b[0;32m---> 17\u001b[0m     text \u001b[38;5;241m=\u001b[39m \u001b[43mrecognizer\u001b[49m\u001b[38;5;241;43m.\u001b[39;49m\u001b[43mrecognize_google\u001b[49m\u001b[43m(\u001b[49m\u001b[43maudio\u001b[49m\u001b[43m,\u001b[49m\u001b[43m \u001b[49m\u001b[43mlanguage\u001b[49m\u001b[38;5;241;43m=\u001b[39;49m\u001b[38;5;124;43m\"\u001b[39;49m\u001b[38;5;124;43mes-ES\u001b[39;49m\u001b[38;5;124;43m\"\u001b[39;49m\u001b[43m)\u001b[49m\n\u001b[1;32m     18\u001b[0m     \u001b[38;5;28mprint\u001b[39m(\u001b[38;5;124mf\u001b[39m\u001b[38;5;124m\"\u001b[39m\u001b[38;5;124mReconocido: \u001b[39m\u001b[38;5;132;01m{\u001b[39;00mtext\u001b[38;5;132;01m}\u001b[39;00m\u001b[38;5;124m\"\u001b[39m)\n\u001b[1;32m     20\u001b[0m     \u001b[38;5;28;01mif\u001b[39;00m \u001b[38;5;124m\"\u001b[39m\u001b[38;5;124moye irina\u001b[39m\u001b[38;5;124m\"\u001b[39m \u001b[38;5;129;01min\u001b[39;00m text\u001b[38;5;241m.\u001b[39mlower():\n",
      "File \u001b[0;32m/Library/Frameworks/Python.framework/Versions/3.10/lib/python3.10/site-packages/speech_recognition/recognizers/google.py:244\u001b[0m, in \u001b[0;36mrecognize_legacy\u001b[0;34m(recognizer, audio_data, key, language, pfilter, show_all, with_confidence)\u001b[0m\n\u001b[1;32m    239\u001b[0m request_builder \u001b[38;5;241m=\u001b[39m create_request_builder(\n\u001b[1;32m    240\u001b[0m     key\u001b[38;5;241m=\u001b[39mkey, language\u001b[38;5;241m=\u001b[39mlanguage, filter_level\u001b[38;5;241m=\u001b[39mpfilter\n\u001b[1;32m    241\u001b[0m )\n\u001b[1;32m    242\u001b[0m request \u001b[38;5;241m=\u001b[39m request_builder\u001b[38;5;241m.\u001b[39mbuild(audio_data)\n\u001b[0;32m--> 244\u001b[0m response_text \u001b[38;5;241m=\u001b[39m \u001b[43mobtain_transcription\u001b[49m\u001b[43m(\u001b[49m\n\u001b[1;32m    245\u001b[0m \u001b[43m    \u001b[49m\u001b[43mrequest\u001b[49m\u001b[43m,\u001b[49m\u001b[43m \u001b[49m\u001b[43mtimeout\u001b[49m\u001b[38;5;241;43m=\u001b[39;49m\u001b[43mrecognizer\u001b[49m\u001b[38;5;241;43m.\u001b[39;49m\u001b[43moperation_timeout\u001b[49m\n\u001b[1;32m    246\u001b[0m \u001b[43m\u001b[49m\u001b[43m)\u001b[49m\n\u001b[1;32m    248\u001b[0m output_parser \u001b[38;5;241m=\u001b[39m OutputParser(\n\u001b[1;32m    249\u001b[0m     show_all\u001b[38;5;241m=\u001b[39mshow_all, with_confidence\u001b[38;5;241m=\u001b[39mwith_confidence\n\u001b[1;32m    250\u001b[0m )\n\u001b[1;32m    251\u001b[0m \u001b[38;5;28;01mreturn\u001b[39;00m output_parser\u001b[38;5;241m.\u001b[39mparse(response_text)\n",
      "File \u001b[0;32m/Library/Frameworks/Python.framework/Versions/3.10/lib/python3.10/site-packages/speech_recognition/recognizers/google.py:212\u001b[0m, in \u001b[0;36mobtain_transcription\u001b[0;34m(request, timeout)\u001b[0m\n\u001b[1;32m    208\u001b[0m \u001b[38;5;28;01mexcept\u001b[39;00m URLError \u001b[38;5;28;01mas\u001b[39;00m e:\n\u001b[1;32m    209\u001b[0m     \u001b[38;5;28;01mraise\u001b[39;00m RequestError(\n\u001b[1;32m    210\u001b[0m         \u001b[38;5;124m\"\u001b[39m\u001b[38;5;124mrecognition connection failed: \u001b[39m\u001b[38;5;132;01m{}\u001b[39;00m\u001b[38;5;124m\"\u001b[39m\u001b[38;5;241m.\u001b[39mformat(e\u001b[38;5;241m.\u001b[39mreason)\n\u001b[1;32m    211\u001b[0m     )\n\u001b[0;32m--> 212\u001b[0m \u001b[38;5;28;01mreturn\u001b[39;00m \u001b[43mresponse\u001b[49m\u001b[38;5;241;43m.\u001b[39;49m\u001b[43mread\u001b[49m\u001b[43m(\u001b[49m\u001b[43m)\u001b[49m\u001b[38;5;241m.\u001b[39mdecode(\u001b[38;5;124m\"\u001b[39m\u001b[38;5;124mutf-8\u001b[39m\u001b[38;5;124m\"\u001b[39m)\n",
      "File \u001b[0;32m/Library/Frameworks/Python.framework/Versions/3.10/lib/python3.10/http/client.py:458\u001b[0m, in \u001b[0;36mHTTPResponse.read\u001b[0;34m(self, amt)\u001b[0m\n\u001b[1;32m    455\u001b[0m     \u001b[38;5;28;01mreturn\u001b[39;00m \u001b[38;5;124mb\u001b[39m\u001b[38;5;124m\"\u001b[39m\u001b[38;5;124m\"\u001b[39m\n\u001b[1;32m    457\u001b[0m \u001b[38;5;28;01mif\u001b[39;00m \u001b[38;5;28mself\u001b[39m\u001b[38;5;241m.\u001b[39mchunked:\n\u001b[0;32m--> 458\u001b[0m     \u001b[38;5;28;01mreturn\u001b[39;00m \u001b[38;5;28;43mself\u001b[39;49m\u001b[38;5;241;43m.\u001b[39;49m\u001b[43m_read_chunked\u001b[49m\u001b[43m(\u001b[49m\u001b[43mamt\u001b[49m\u001b[43m)\u001b[49m\n\u001b[1;32m    460\u001b[0m \u001b[38;5;28;01mif\u001b[39;00m amt \u001b[38;5;129;01mis\u001b[39;00m \u001b[38;5;129;01mnot\u001b[39;00m \u001b[38;5;28;01mNone\u001b[39;00m:\n\u001b[1;32m    461\u001b[0m     \u001b[38;5;28;01mif\u001b[39;00m \u001b[38;5;28mself\u001b[39m\u001b[38;5;241m.\u001b[39mlength \u001b[38;5;129;01mis\u001b[39;00m \u001b[38;5;129;01mnot\u001b[39;00m \u001b[38;5;28;01mNone\u001b[39;00m \u001b[38;5;129;01mand\u001b[39;00m amt \u001b[38;5;241m>\u001b[39m \u001b[38;5;28mself\u001b[39m\u001b[38;5;241m.\u001b[39mlength:\n\u001b[1;32m    462\u001b[0m         \u001b[38;5;66;03m# clip the read to the \"end of response\"\u001b[39;00m\n",
      "File \u001b[0;32m/Library/Frameworks/Python.framework/Versions/3.10/lib/python3.10/http/client.py:581\u001b[0m, in \u001b[0;36mHTTPResponse._read_chunked\u001b[0;34m(self, amt)\u001b[0m\n\u001b[1;32m    579\u001b[0m \u001b[38;5;28;01mtry\u001b[39;00m:\n\u001b[1;32m    580\u001b[0m     \u001b[38;5;28;01mwhile\u001b[39;00m \u001b[38;5;28;01mTrue\u001b[39;00m:\n\u001b[0;32m--> 581\u001b[0m         chunk_left \u001b[38;5;241m=\u001b[39m \u001b[38;5;28;43mself\u001b[39;49m\u001b[38;5;241;43m.\u001b[39;49m\u001b[43m_get_chunk_left\u001b[49m\u001b[43m(\u001b[49m\u001b[43m)\u001b[49m\n\u001b[1;32m    582\u001b[0m         \u001b[38;5;28;01mif\u001b[39;00m chunk_left \u001b[38;5;129;01mis\u001b[39;00m \u001b[38;5;28;01mNone\u001b[39;00m:\n\u001b[1;32m    583\u001b[0m             \u001b[38;5;28;01mbreak\u001b[39;00m\n",
      "File \u001b[0;32m/Library/Frameworks/Python.framework/Versions/3.10/lib/python3.10/http/client.py:564\u001b[0m, in \u001b[0;36mHTTPResponse._get_chunk_left\u001b[0;34m(self)\u001b[0m\n\u001b[1;32m    562\u001b[0m     \u001b[38;5;28mself\u001b[39m\u001b[38;5;241m.\u001b[39m_safe_read(\u001b[38;5;241m2\u001b[39m)  \u001b[38;5;66;03m# toss the CRLF at the end of the chunk\u001b[39;00m\n\u001b[1;32m    563\u001b[0m \u001b[38;5;28;01mtry\u001b[39;00m:\n\u001b[0;32m--> 564\u001b[0m     chunk_left \u001b[38;5;241m=\u001b[39m \u001b[38;5;28;43mself\u001b[39;49m\u001b[38;5;241;43m.\u001b[39;49m\u001b[43m_read_next_chunk_size\u001b[49m\u001b[43m(\u001b[49m\u001b[43m)\u001b[49m\n\u001b[1;32m    565\u001b[0m \u001b[38;5;28;01mexcept\u001b[39;00m \u001b[38;5;167;01mValueError\u001b[39;00m:\n\u001b[1;32m    566\u001b[0m     \u001b[38;5;28;01mraise\u001b[39;00m IncompleteRead(\u001b[38;5;124mb\u001b[39m\u001b[38;5;124m'\u001b[39m\u001b[38;5;124m'\u001b[39m)\n",
      "File \u001b[0;32m/Library/Frameworks/Python.framework/Versions/3.10/lib/python3.10/http/client.py:524\u001b[0m, in \u001b[0;36mHTTPResponse._read_next_chunk_size\u001b[0;34m(self)\u001b[0m\n\u001b[1;32m    522\u001b[0m \u001b[38;5;28;01mdef\u001b[39;00m \u001b[38;5;21m_read_next_chunk_size\u001b[39m(\u001b[38;5;28mself\u001b[39m):\n\u001b[1;32m    523\u001b[0m     \u001b[38;5;66;03m# Read the next chunk size from the file\u001b[39;00m\n\u001b[0;32m--> 524\u001b[0m     line \u001b[38;5;241m=\u001b[39m \u001b[38;5;28;43mself\u001b[39;49m\u001b[38;5;241;43m.\u001b[39;49m\u001b[43mfp\u001b[49m\u001b[38;5;241;43m.\u001b[39;49m\u001b[43mreadline\u001b[49m\u001b[43m(\u001b[49m\u001b[43m_MAXLINE\u001b[49m\u001b[43m \u001b[49m\u001b[38;5;241;43m+\u001b[39;49m\u001b[43m \u001b[49m\u001b[38;5;241;43m1\u001b[39;49m\u001b[43m)\u001b[49m\n\u001b[1;32m    525\u001b[0m     \u001b[38;5;28;01mif\u001b[39;00m \u001b[38;5;28mlen\u001b[39m(line) \u001b[38;5;241m>\u001b[39m _MAXLINE:\n\u001b[1;32m    526\u001b[0m         \u001b[38;5;28;01mraise\u001b[39;00m LineTooLong(\u001b[38;5;124m\"\u001b[39m\u001b[38;5;124mchunk size\u001b[39m\u001b[38;5;124m\"\u001b[39m)\n",
      "File \u001b[0;32m/Library/Frameworks/Python.framework/Versions/3.10/lib/python3.10/socket.py:705\u001b[0m, in \u001b[0;36mSocketIO.readinto\u001b[0;34m(self, b)\u001b[0m\n\u001b[1;32m    703\u001b[0m \u001b[38;5;28;01mwhile\u001b[39;00m \u001b[38;5;28;01mTrue\u001b[39;00m:\n\u001b[1;32m    704\u001b[0m     \u001b[38;5;28;01mtry\u001b[39;00m:\n\u001b[0;32m--> 705\u001b[0m         \u001b[38;5;28;01mreturn\u001b[39;00m \u001b[38;5;28;43mself\u001b[39;49m\u001b[38;5;241;43m.\u001b[39;49m\u001b[43m_sock\u001b[49m\u001b[38;5;241;43m.\u001b[39;49m\u001b[43mrecv_into\u001b[49m\u001b[43m(\u001b[49m\u001b[43mb\u001b[49m\u001b[43m)\u001b[49m\n\u001b[1;32m    706\u001b[0m     \u001b[38;5;28;01mexcept\u001b[39;00m timeout:\n\u001b[1;32m    707\u001b[0m         \u001b[38;5;28mself\u001b[39m\u001b[38;5;241m.\u001b[39m_timeout_occurred \u001b[38;5;241m=\u001b[39m \u001b[38;5;28;01mTrue\u001b[39;00m\n",
      "\u001b[0;31mKeyboardInterrupt\u001b[0m: "
     ]
    }
   ],
   "source": [
    "if __name__ == \"__main__\":\n",
    "    detect_wake_word()"
   ]
  },
  {
   "cell_type": "code",
   "execution_count": 1,
   "metadata": {},
   "outputs": [
    {
     "data": {
      "text/plain": [
       "['admin', 'config', 'ibmclouddb', 'local']"
      ]
     },
     "execution_count": 1,
     "metadata": {},
     "output_type": "execute_result"
    }
   ],
   "source": [
    "from  Backend.credentials.Mongo import get_mongo_client\n",
    "\n",
    "client = get_mongo_client()\n",
    "\n",
    "# consultemos la base de datos\n",
    "\n",
    "# consultemos que bases de datos tenemos\n",
    "client.list_database_names()"
   ]
  },
  {
   "cell_type": "code",
   "execution_count": 2,
   "metadata": {},
   "outputs": [
    {
     "data": {
      "text/plain": [
       "['Banca', 'Minera', 'pdf']"
      ]
     },
     "execution_count": 2,
     "metadata": {},
     "output_type": "execute_result"
    }
   ],
   "source": [
    "db = client[\"ibmclouddb\"]\n",
    "# consultemos que colecciones tenemos\n",
    "db.list_collection_names()"
   ]
  },
  {
   "cell_type": "code",
   "execution_count": 3,
   "metadata": {},
   "outputs": [
    {
     "data": {
      "text/plain": [
       "1"
      ]
     },
     "execution_count": 3,
     "metadata": {},
     "output_type": "execute_result"
    }
   ],
   "source": [
    "#  creamos una colección\n",
    "collection = db[\"pdf\"]\n",
    "# consultemos que documentos tenemos\n",
    "collection.count_documents({})"
   ]
  },
  {
   "cell_type": "code",
   "execution_count": 4,
   "metadata": {},
   "outputs": [],
   "source": [
    "import pandas as pd"
   ]
  },
  {
   "cell_type": "code",
   "execution_count": 8,
   "metadata": {},
   "outputs": [
    {
     "data": {
      "text/html": [
       "<div>\n",
       "<style scoped>\n",
       "    .dataframe tbody tr th:only-of-type {\n",
       "        vertical-align: middle;\n",
       "    }\n",
       "\n",
       "    .dataframe tbody tr th {\n",
       "        vertical-align: top;\n",
       "    }\n",
       "\n",
       "    .dataframe thead th {\n",
       "        text-align: right;\n",
       "    }\n",
       "</style>\n",
       "<table border=\"1\" class=\"dataframe\">\n",
       "  <thead>\n",
       "    <tr style=\"text-align: right;\">\n",
       "      <th></th>\n",
       "      <th>_id</th>\n",
       "      <th>id</th>\n",
       "      <th>filename</th>\n",
       "      <th>empresa</th>\n",
       "      <th>sector</th>\n",
       "      <th>periodo</th>\n",
       "      <th>year</th>\n",
       "      <th>trimestre</th>\n",
       "      <th>doc</th>\n",
       "      <th>keypoints</th>\n",
       "      <th>resumen</th>\n",
       "      <th>status</th>\n",
       "      <th>texto</th>\n",
       "    </tr>\n",
       "  </thead>\n",
       "  <tbody>\n",
       "    <tr>\n",
       "      <th>0</th>\n",
       "      <td>661e9da0071dc46b45570c85</td>\n",
       "      <td>906d4ed9-8b22-421e-8c80-de6e5db98f5e</td>\n",
       "      <td>Análisis_Razonado90749000_202309.pdf</td>\n",
       "      <td>Falabella</td>\n",
       "      <td>Retail</td>\n",
       "      <td>3Q23</td>\n",
       "      <td>2023</td>\n",
       "      <td>03</td>\n",
       "      <td>b'%PDF-1.7\\r\\n%\\xb5\\xb5\\xb5\\xb5\\r\\n1 0 obj\\r\\n...</td>\n",
       "      <td>None</td>\n",
       "      <td>None</td>\n",
       "      <td>ready</td>\n",
       "      <td>ANÁLISIS RAZONADO Tercer\\nTrimestral 1. Ingres...</td>\n",
       "    </tr>\n",
       "  </tbody>\n",
       "</table>\n",
       "</div>"
      ],
      "text/plain": [
       "                        _id                                    id  \\\n",
       "0  661e9da0071dc46b45570c85  906d4ed9-8b22-421e-8c80-de6e5db98f5e   \n",
       "\n",
       "                                filename    empresa  sector periodo  year  \\\n",
       "0  Análisis_Razonado90749000_202309.pdf  Falabella  Retail    3Q23  2023   \n",
       "\n",
       "  trimestre                                                doc keypoints  \\\n",
       "0        03  b'%PDF-1.7\\r\\n%\\xb5\\xb5\\xb5\\xb5\\r\\n1 0 obj\\r\\n...      None   \n",
       "\n",
       "  resumen status                                              texto  \n",
       "0    None  ready  ANÁLISIS RAZONADO Tercer\\nTrimestral 1. Ingres...  "
      ]
     },
     "execution_count": 8,
     "metadata": {},
     "output_type": "execute_result"
    }
   ],
   "source": [
    "# veamos en un dataframe los documentos\n",
    "df = pd.DataFrame(list(collection.find()))\n",
    "df\n"
   ]
  },
  {
   "cell_type": "code",
   "execution_count": 10,
   "metadata": {},
   "outputs": [
    {
     "data": {
      "text/plain": [
       "'ANÁLISIS RAZONADO Tercer\\nTrimestral 1. Ingresos • Los ingresos consolidados alcanzaron los MM$2.687.837, una caída de 9,6% a/a (-11,5% no bancario y -0,1% bancario). Esto se explica, principalmente por los negocios de Mejoramiento del Hogar Chile (- 19,2% a/a), Tiendas por Departamento Chile (-15,4% a/a), Negocios de Retail en Perú (-15,7% a/a, - 13,1% en moneda local), compensado parcialmente por Mallplaza (+16,9% a/a) y el negocio bancario en Perú (+15,4% a/a, +20,5% en moneda local) y en Colombia (+5,2% a/a, +9,5% en moneda local).\\nChile • Los negocios enfrentaron un escenario de desaceleración en el consumo y en proyectos de construcción, donde los ingresos de los formatos de retail cayeron 15,3% a/a. • Mejoramiento del Hogar (-19,2% a/a): ventas SSS que cayeron 18,0% a/a, fuertemente\\nimpactado por el sector de construcción, mientras que las ventas online decrecieron 17% a/a. • Tiendas por Departamento (-15,4% a/a): ventas SSS -1,8% a/a, impactada principalmente por caída en la categoría electrohogar, tanto en canal físico como online. • • • Supermercados (-5,2% a/a): ventas SSS -4,7% a/a, categorías Non-Food continúan con tendencia a la baja, reduciendo su participación a nivel de ventas.\\nLa venta online de retailers y sellers alcanzó un total de MM$291.119 millones (-16% a/a) y alcanzó un 20% de penetración online.\\nIngresos bancarios cayeron 6,1%, con una cartera de colocaciones decreciendo 12,0% a/a, por políticas más restrictivas en la originación de créditos. Además, los ingresos por comisiones crecieron 23,4% a/a. • Mallplaza registró un aumento de 16,9% a/a, por mayor ocupación y la indexación a UF.\\nPerú • A nivel consolidado, los ingresos decrecieron 12,1% a/a. • Mejoramiento del Hogar (-21,2% a/a, -19,0% en moneda local): fuertemente impactado por la caída en el sector de construcción y en la demanda interna.\\n•\\nTiendas por Departamento (-17,2% a/a, -14,4% en moneda local): impactada por la caída en categoría electro y deco-hogar, además del impacto en vestuario de temporada por las altas temperaturas generadas por El Niño. • Supermercados (-10,8% a/a, -8,1% en moneda local): impactado por caída en Non-Food, explicado en parte por el fenómeno de El Niño (categoría vestuario) y caída en categoría electro. • Lo anterior, contrarrestado parcialmente por el negocio bancario que registró un incremento de 15,4% a/a, (+20,5% en moneda local), con una cartera de colocaciones creciendo 0,5% a/a en moneda local.\\nPor su lado, los ingresos por comisiones crecieron 21,5% a/a en moneda local.\\nColombia • • • Los ingresos consolidados crecieron 0,8% a/a.\\nLos ingresos de Tiendas por Departamento decrecieron 12,4%% a/a (-11,4% en moneda local), impactado por un menor dinamismo del consumo.\\nPor su parte, los ingresos bancarios crecieron 5,2% a/a (+9,5% en moneda local), con una cartera de colocaciones que disminuye 13,3% a/a en moneda local.\\nBrasil • Los ingresos cayeron 9,0% a/a (-8,1% en moneda local), explicado principalmente por una contracción en la demanda.\\nArgentina • Los ingresos de Mejoramiento del Hogar decrecieron 9,3% a/a (+147,2% en moneda local).\\n2. Resultado operacional • El resultado operacional alcanzó los MM$64.877, un 3,1% menor a lo registrado en 3Q22, debido a: • Caída en la ganancia bruta consolidada de 5,9% a/a. • Contención de gastos de administración y ventas que disminuyeron 6,1% a/a, en parte debido a la ejecución del plan de eficiencias, pese al entorno de alta inflación en los países donde operamos y los costos de implementación de las medidas.\\nChile • El resultado operacional de los negocios retail alcanzó una pérdida de MM$59.588, incremento de 170,2% a/a. Lo anterior, se explica principalmente por una menor ganancia bruta del negocio de Mejoramiento del Hogar, con una caída en margen, impactado por la caída en ingresos y la menor\\ndilución de gastos. Por su parte, los gastos por administración y ventas decrecieron 6,9% a/a. • El resultado operacional de Banco Falabella Chile creció 280,2%, alcanzando los MM$49.942, debido principalmente a un aumento en la ganancia bruta de 45,5% a/a, producto de un menor costo por riesgo (-33,4% a/a).\\nPerú • El resultado operacional alcanzó los MM$42.592 (-34,9% a/a), explicado por una caída de la ganancia bruta (-19,5% a/a), asociado a Mejoramiento del Hogar, Tiendas por Departamento y Banco Falabella.\\nPor su parte, los gastos de administración y ventas se redujeron 14,7% a/a, a nivel consolidado.\\nColombia • El resultado operacional registró una pérdida de MM$24.991, la cual se compara con el resultado operacional positivo de MM$6.373 del trimestre comparable. La ganancia bruta (-1,6% a/a) se vio impactada por el aumento en el costo por riesgo del negocio bancario, asociado a un deterioro de la calidad de la cartera de colocaciones y, en menor medida, a una menor contribución en la operación de Tiendas por Departamento. A nivel consolidado, los gastos por administración y ventas crecieron 58,4%\\na/a en el periodo.\\nBrasil • El resultado operacional alcanzó los MM$130, un decrecimiento de 92,0% a/a. Lo anterior, explicado por una contracción a nivel de ganancia bruta (-11,8%), parcialmente compensado por una mejora en gastos de administración y ventas (-6,5% a/a).\\nArgentina • La pérdida operacional fue un 4,4x mayor a la registrada en el trimestre comparable, siendo la caída en ganancia bruta parcialmente compensada por menores gastos de administración y ventas.\\n3. Resultado No Operacional y Pérdida Neta El resultado no operacional presentó una pérdida de MM$56.929 para el trimestre (-42,3% a/a), impactado principalmente por un menor reajuste de pasivos en UF.\\nDado todo lo anterior, la pérdida neta del trimestre fue MM$4.642, lo que representa una disminución de\\n72,6% con respecto al periodo comparable. A nivel de negocios, existe una menor contribución de Mejoramiento del Hogar Chile y los negocios en Perú y Colombia, compensado por el negocio inmobiliario.\\nAcumulado 9 meses 1. Ingresos • Los ingresos consolidados de Falabella alcanzaron los MM$8.123.797, representando un decrecimiento de 9,5% a/a (-12,5% no bancario y +7,5% bancario). Esto último, se explica a nivel consolidado, principalmente por los negocios de Mejoramiento del\\nHogar Chile (-21,9% a/a), Tiendas por Departamento Chile (-17,4% a/a), Mejoramiento del Hogar Perú (-16,5% a/a, -14,6% en moneda local) y Tiendas por Departamento Perú (-11,3% a/a, -8,9% en moneda local), asociado a la desaceleración del consumo en la región, compensado parcialmente por los negocios bancarios en Perú (+23,2% a/a, +29,3% a/a en moneda local) y Chile (+3,8% a/a), además de Mallplaza (+14,6% a/a).\\nChile • • • Los negocios enfrentaron un escenario de desaceleración en el consumo y en proyectos de construcción, y una base comparativa desafiante, donde los ingresos de los formatos de retail cayeron 17,1% a/a. Lo anterior, principalmente por Mejoramiento del Hogar que registró una caída de 21,9% a/a.\\nLa venta online alcanzó los MM$990.282 millones (-17% a/a) y representó un 21% sobre el total de las ventas brutas.\\nPor su lado, los ingresos bancarios crecieron 3,8%, con una cartera de créditos decreciendo 12,0% a/a. • Mallplaza registró un aumento de 14,6% a/a, por mayor ocupación y la indexación a UF.\\nPerú • Los ingresos consolidados decrecieron 7,1% a/a, explicado por los negocios de retail en el país que registraron caídas de 16,5% a/a en Mejoramiento del Hogar (-14,6% en moneda local), 11,3% a/a en Tiendas por Departamento (-8,9% en moneda local) y 6,1% a/a en Supermercados (-3,8% en moneda local). • Lo anterior, contrarrestado parcialmente por el negocio bancario que registró un incremento de 23,2% a/a (+29,3% a/a moneda local), con una cartera de colocaciones creciendo 0,5% a/a en moneda local.\\nColombia • Los ingresos consolidados cayeron 10,8% a/a, debido a una contracción en Tiendas por Departamento de 25,0% a/a (-15,0% en moneda local). • Lo anterior, compensado parcialmente por un aumento en los ingresos bancarios de 6,8% a/a (+25,4% en moneda local), con una cartera de colocaciones que decrece 13,3% a/a en moneda local.\\nBrasil • Los ingresos cayeron 13,7% a/a (-12,0% en moneda local), explicado principalmente por una\\ncontracción en la demanda.\\nArgentina • Los ingresos de Mejoramiento del Hogar decrecieron 9,7% a/a (+130,1% en moneda local).\\n2. Resultado Operacional • El resultado operacional alcanzó los MM$110.487, un 71,5% menor a lo registrado en 9M22, debido a: • Caída en la ganancia bruta consolidada de 13,4% a/a. • Contención de gastos de administración y ventas que disminuyeron 4,5% a/a, en parte debido a la ejecución del plan de eficiencias, pese al entorno de alta inflación en los países donde operamos y los costos de implementación de las medidas.\\nChile • El resultado operacional de los negocios retail alcanzó una pérdida de MM$134.332, la que se compara con la ganancia de MM$37.293 del 9M22. Lo anterior, se explica principalmente por una menor ganancia bruta de los negocios de Mejoramiento del Hogar y Tiendas por Departamento, que continúan impactados por la contracción del consumo y de los proyectos de construcción. Por su parte, los gastos por administración y ventas decrecieron 5,8%. • El resultado operacional de Banco Falabella Chile cayó 28,5% a/a, alcanzando los MM$94.726, debido principalmente a una caída en la ganancia bruta de 2,6% a/a, producto de un alza en el costo por riesgo (+19,5% a/a) y, en segundo lugar, a mayores gastos por de administración y ventas (+11,3% a/a).\\nPerú • El resultado operacional consolidado alcanzó los MM$97.394 (-19,9% a/a). Lo anterior, se explica por una caída de la ganancia bruta (-13,5% a/a), asociado a Tiendas por Departamento, Mejoramiento del Hogar y Banco Falabella. Lo anterior, acompañado de una mejora en los gastos de administración y ventas de 12,2% a/a, a nivel consolidado.\\nColombia • El resultado operacional registró una pérdida de MM$71.309, la cual se compara con el resultado operacional positivo de MM$22.307 del 9M22. La ganancia bruta (-43,8% a/a) se vio fuertemente impactada por el aumento en el costo por riesgo del negocio bancario, asociado a un deterioro de la calidad de la cartera de colocaciones y, en menor medida, a una menor contribución en la operación de Tiendas por Departamento. A nivel consolidado, los gastos por administración y ventas cayeron 0,7% a/a en el periodo.\\nBrasil • El resultado operacional registró una pérdida de MM$4.016 versus el resultado operacional positivo de MM$5.170 registrado en 9M22. Lo anterior, explicado por una contracción a nivel de ganancia bruta (- 16,8%), parcialmente compensado por una mejora en gastos de administración y ventas (-4,8% a/a).\\nArgentina • La pérdida operacional fue un 49,8% mayor a la registrada en los nueve meses comparables, siendo la caída en ganancia bruta parcialmente compensada por menores gastos de administración y ventas.\\n3. Resultado No Operacional y Pérdida Neta Durante los primeros 9 meses de 2023, el resultado no operacional registró una pérdida de MM$44.189, cifra un 73,8% menor a la del mismo periodo del año anterior, explicado principalmente por la revalorización de las propiedades de inversión a valor razonable.\\nDe esta forma, la pérdida neta consolidada alcanzó MM$9.794, cifra que considera un efecto neto de MM$92.913 asociado a la revalorización de propiedades de inversión, y que se compara con una utilidad de MM$161.796 del 9M22. A nivel de negocios, explicado por una menor contribución de Mejoramiento del Hogar y Tiendas por Departamento en Chile y los bancos en Colombia y Chile.\\nActivos El activo corriente no bancario\\ndisminuyó en MM$301.459 en comparación a diciembre 2022, impulsado principalmente por la disminución de los inventarios producto del menor nivel de compras en los negocios en Chile de Mejoramiento del Hogar, Tiendas por Departamento y Supermercados. Adicionalmente, existe una disminución en los otros activos financieros corrientes por menores activos de cobertura debido al pago del bono internacional emitido en el año 2013.\\nPor su parte, el activo no corriente no bancario aumentó en MM$705.136, explicado en mayor parte por un aumento en propiedades de inversión por el incremento en la valorización a valor razonable de las mismas y adiciones. Por su parte, los activos por impuesto diferido aumentan, principalmente, por el incremento de las pérdidas tributarias y la aplicación de la modificación de la NIC 12 sobre los impuestos diferidos generados por los arrendamientos. En el caso de los negocios bancarios, el total de activos disminuyó en MM$80.823 en comparación a diciembre 2022, principalmente debido a la disminución de los créditos y cuentas por cobrar a clientes en Chile, Perú y Colombia. Lo anterior compensado con aumento en los activos financieros con cambios en resultados y resultado integral, por mayores inversiones en\\ninstrumentos financieros. Como resultado de lo anterior, el activo total consolidado aumentó en MM$322.854.\\nPasivos y Patrimonio El pasivo corriente no bancario disminuyó\\nen MM$619.379 en comparación con diciembre 2022, explicado en mayor parte, por la disminución en otros pasivos financieros corrientes, producto del pago del bono internacional emitido en el año 2013, el pago préstamos y líneas de crédito. A su vez, el pasivo no corriente no bancario aumentó en MM$566.280 explicado principalmente por aumento de bonos en UF colocados en enero de 2023 y la obtención de nuevos préstamos.\\nPor su parte, el pasivo total de los negocios bancarios aumento en MM$153.922, principalmente por el incremento de depósitos y otras captaciones a plazo, compensado por una disminución en las obligaciones con bancos. Como resultado, el pasivo total aumentó en MM$100.823.\\nEl patrimonio total aumentó en MM$222.031 respecto de diciembre de 2022, principalmente por el resultado total del período, y el incremento de las reservas por diferencias de cambio por conversión.\\nCaja y liquidez\\n• Respecto a los niveles de liquidez de la compañía, al cierre de septiembre de 2023, el efectivo y equivalentes al efectivo ascendía a MM$ 2.165.067 a nivel consolidado. • Negocios no bancarios: MM$ 649.839. • Negocios bancarios: MM$ 1.515.228.\\nEndeudamiento • Deuda total bruta3 de los negocios no bancarios alcanzó MM$ 4.539.221 a septiembre 2023, una disminución del 7,7% a/a. • Deuda neta alcanzó MM$ 3.597.044 a sept-23, una disminución del 5,2% a/a. • El ratio de endeudamiento neto4\\nde los negocios no bancarios alcanza 1,0 veces, comparable con 1,1 veces para el mismo periodo del año anterior.\\n3 Deuda Total bruta = Préstamos bancarios + Obligaciones con el público.\\n4 Ratio de endeudamiento neto = Pasivos Totales no bancarios / Patrimonio Total.\\n5 EBITDA UDM (Últimos doce meses) = Ganancia bruta – costos de distribución – gastos de administración – gastos por función + depreciación, Deuda financiera neta = pasivos financieros corrientes + pasivos financieros no corrientes – activos de cobertura – efectivo y equivalente de efectivo.\\n6 Saldos en US$ convertidos al tipo de cambio de cierre de cada país.\\n7 La deuda financiera total consolidada no incluye las operaciones bancarias de Falabella (Banco Falabella Chile, Banco Falabella Perú y Banco Falabella Colombia) ni intereses devengados. Adicionalmente, el perfil de amortización considera la sumatoria de las amortizaciones de capital para cada período.\\nEl flujo operacional no bancario presenta un aumento\\nde MM$720.048, originado principalmente por menores pagos de proveedores, debido a menores compras de inventarios, compensado por menores cobros a clientes, en línea con la baja en los ingresos. El flujo operacional del negocio bancario aumentó MM$789.110, por menor crecimiento de las cuentas por cobrar a clientes, compensado por menores captaciones a plazo.\\nEl flujo de inversión de las empresas no bancarias presenta una variación positiva de MM$80.993, principalmente, por menores compras de activos intangibles y aumento de otras entradas de efectivos, producto del cobro por depósitos a plazo a más de 90 días. El flujo de inversión de los bancos presenta una disminución de MM$146.122, originada principalmente por la disminución de instrumentos de inversión disponibles para la venta.\\nEl flujo de financiamiento del negocio no bancario presenta una baja de MM$1.151.736, originada principalmente por menores prestamos obtenidos, compensada por menores pagos de préstamos. El flujo\\nde financiamiento del negocio bancario presenta una disminución de MM$197.173, principalmente por pagos de préstamos y otros pasivos, compensado por colocaciones de bonos.\\n• Seguimos avanzando con nuestro selectivo plan de expansión física: • Julio: Inauguramos la tienda número 13 de Mejoramiento del Hogar de 3.945 m2 de superficie de venta en Interlomas, México y la tienda Express Falabella San Juan de Lurigancho en Perú. • Agosto: Inauguramos una tienda de Mejoramiento del Hogar de 6.919 m2 de superficie de venta y un Supermercado de 4.317 m2 de superficie de venta en Iquitos, Perú. • Septiembre: Apertura de la primera tienda IKEA en Colombia que cuenta con 14.360 m2 de superficie de venta, así como de la primera tienda Sodimac de formato compacto en Colombia, con 2.805 m2 en Sincelejo. • El 5 de septiembre, el gerente general de Falabella S.A., Gaston Bottazzini, presentó su renuncia al directorio de la compañía luego de cinco años en el cargo. La misma se hará efectiva el 1 de enero de 2024. Durante su mandato el ejecutivo se ha destacado por ser un propulsor de la transformación digital y cultural que sentaron las bases para la construcción de un ecosistema físico-\\ndigital líder en la región\\n• Falabella creó una nueva Gerencia General Corporativa con el objetivo de generar sinergias entre su marketplace falabella.com y Falabella Retail, de modo de aprovechar al máximo sus oportunidades y capacidades conjuntas, mejorar su oferta al cliente, potenciar la omnicanalidad, y su propuesta de marcas, apuntando a una mayor eficiencia y rentabilidad del ecosistema. La Gerencia General Corporativa Omnichannel Falabella fue asumida desde el 1 de octubre por Benoit de Grave, quien fue gerente general de falabella.com luego de desempeñar diferentes cargos dentro del grupo\\n• A partir del 1 de diciembre de 2023, Renato Giarola asumirá como nuevo Gerente General Corporativo de Tottus, en reemplazo de Johann Ramberg. Renato cuenta con más de 24 años de experiencia en el sector retail y alimentación, donde se desempeñó en empresas como Lojas 1A99, Dia y Grupo Pão de Açúcar.\\n• Durante el mes de octubre, participamos en diversos eventos e-commerce en la región Andina. En Chile, las ventas del “Cyber Day” experimentaron un crecimiento del 10% a/a, mientras que en Colombia el evento “Hot Sale” registró un crecimiento de 39% a/a en el canal Falabella.com.\\n6 Las cuentas pasivas de Banco Falabella Perú difieren de lo presentado anteriormente, por ajustes y reclasificaciones de cuentas.\\n7 Duration Banco Falabella Chile considera solo la cartera CMR.\\n8 Porcentaje de venta con CMR: es la venta a través de la tarjeta con respecto a la venta total de cada negocio.\\nLos ratios de rentabilidad de los bancos se vieron afectados principalmente por mayores costos de riesgo y de fondeo, como consecuencia de un escenario macroeconómico más complejo y con altos niveles de inflación, en los países donde operamos.\\n1. ROAE Bancos (Utilidad UDM / Patrimonio promedio últimos 5 trimestres) En Banco Falabella Chile, la variación de -10,3 pp en el ROAE responde a una disminución del 54% en la utilidad UDM y a un aumento de 4% en el patrimonio promedio. Por su parte, Banco Falabella Perú registra una variación de -0,5 pp, atribuido a un aumento de la pérdida UDM en 55% y al aumento de 7% en el patrimonio promedio. Por último, el ROAE de Banco Falabella Colombia se redujo 38,0 pp, explicado por pérdidas UDM y un aumento de 14% en el patrimonio promedio.\\n2. ROAA Bancos (Utilidad UDM / Activos promedio últimos 5 trimestres) En Banco Falabella Chile, la variación de -1,4 pp en el ROAA responde a una disminución del 54% en la utilidad UDM y a un aumento de 1% en los activos promedio. Por su parte, Banco Falabella Perú registra\\nuna variación de -0,1 pp, atribuido a un aumento de la pérdida UDM en 55% y al aumento de 10% en los activos promedio. Por último, el ROAA de Banco Falabella Colombia se redujo 4,8 pp, explicado por pérdidas UDM y un aumento de 10% en los activos promedio.\\n9 Todas las variaciones son en términos nominales y han sido calculadas tanto en pesos chilenos como en moneda local de cada país.\\n10 Los ingresos de Argentina en pesos chileno se ven afectados por la aplicación de IAS 29.\\n12 Todos los crecimientos son en términos nominales y han sido calculados en moneda local de cada país. En Argentina son netos del impuesto a los ingresos brutos (IIBB).\\n13 Los crecimientos de venta nominal por local incorporan las ventas del canal online hasta el año 2019 (en los casos que exista dicha operación).\\nPosteriormente, producto de la pandemia Covid-19 se excluyen la venta online del análisis.\\n14 El cálculo de SSS no considera las tiendas que tienen cambios significativos, con el periodo comparable, en su superficie de venta, ya sea por remodelaciones, ampliaciones, reducciones o cierres.\\n15 El término “N/A” hace referencia a que la métrica no es aplicable considerando las afecciones operacionales a las tiendas físicas, en el contexto de la pandemia.\\nLa superficie de venta incluye la línea de caja. En el caso de Tottus, representa aproximadamente un 8% de la superficie. Esta definición puede diferir de cómo lo miden otros actores del mercado.\\n17 A partir de 2Q20, se excluyen tiendas Stand Alone de marca propia (Crate & Barrel en Perú y Colombia).\\n18 Falabella, a través de sus filiales, también es dueña de aproximadamente un millón de m2 adicionales de superficie arrendable en ubicaciones free standing de Falabella, Sodimac, Tottus, Maestro y otros.\\n19 Open considera los Power Centers y Shopping Center (ubicaciones donde hay dos tiendas anclas y locales menores) distintos a los operados por Mallplaza. No considera a Autoplaza como un shopping center separado.\\n1. Días Promedio de Cobro En Chile, el formato de Tiendas por Departamento registró una variación de -0,6 días, explicado por una caída de 20% a/a en cuentas por cobrar y una caída de 15% a/a en el nivel de ingresos. El formato de Mejoramiento del Hogar registró una variación de -0,7 días, explicado por una caída de 24% a/a en cuentas por cobrar y una caída de 19% a/a en el nivel de ingresos. Por su parte, el formato de Supermercados registró una variación de -3,8 días, explicado principalmente por una caída de 54% en cuentas por cobrar, mientras que los ingresos registraron una caída de 5% a/a.\\nMallplaza registró una variación de -2,0 días, explicado principalmente por un aumento de 10% en cuentas por cobrar, mientras que los ingresos registraron un aumento de 17% a/a.\\nEn Perú, se registró una variación de +0,2 días, explicado por una disminución de 10% a/a en cuentas por cobrar, mientras que los ingresos registraron una disminución de 16% a/a. En Argentina, se registró una variación de +5,6 días, explicado por un aumento de 21% a/a en cuentas por cobrar, mientras que los ingresos registraron una caída de 10% a/a. En Colombia, se registró una variación de +4,7 días, explicado\\npor un aumento de 81% a/a en cuentas por cobrar, mientras que los ingresos registraron una disminución de 12% a/a. En Brasil, se registró una variación de -0,9 días, explicado por una diminución de 10% a/a en cuentas por cobrar, mientras que los ingresos registraron una disminución de 9% a/a.\\n19 Días de cobro no incluye las cuentas por cobrar de los formatos de retail (Tiendas por Departamento, Mejoramiento del Hogar y Supermercados) con Promotora CMR.\\n20 Promedio de cobro (no incluye Plaza S.A.): Deudores Comerciales y Otras Cuentas por Cobrar, Corrientes (neto) * 90 / Ingresos Ordinarios Promedio\\nde cobro para Plaza S.A. corresponde a los días de cobro. Promedio de pago: Acreedores Comerciales y Otras Cuentas por Pagar, Corrientes * 90 / Costos de ventas. Días de Inventarios: Inventarios (neto) * 90 / Costos de ventas.\\n21 Los indicadores incluyen las operaciones de retail únicamente, excepto Perú, que incluye las dos empresas inmobiliarias de Maestro.\\n2. Días Promedio de Pago En Chile, el formato de Tiendas por Departamento registró una variación de +27,1 días, explicado por un aumento de 37% a/a en cuentas por pagar y una reducción de 17% a/a en costos de ventas. El formato de Mejoramiento del Hogar registró una variación de +8,5 días, explicado por un aumento de 3% a/a en cuentas por pagar y una caída de 16% a/a en costos de ventas. Por su parte, el formato de Supermercados registró una variación de +15,4 días, explicado principalmente por un incremento de 40% en cuentas por pagar, mientras que los costos de ventas decrecieron 6% a/a.\\nEn Perú, se registró una variación de +6,8 días, explicado por una disminución de 1% a/a en cuentas por pagar, mientras que los costos de ventas registraron una caída de 14% a/a. En Argentina, se registró una variación de -19,8 días, explicado por una disminución de 23% a/a en cuentas por pagar, mientras que los costos de ventas registraron una caída de 5% a/a. En Colombia, se registró una variación de +12,5 días, explicado por un aumento de 11% a/a en cuentas por pagar, mientras que los costos de ventas registraron una baja de 9% a/a. En Brasil, se registró una variación de -4,2 días, explicado por una\\ndiminución de 11% a/a en cuentas por pagar, mientras que los costos de ventas registraron una caída de 8% a/a.\\n3. Días de Inventario En Chile, el formato de Tiendas por Departamento registró una variación de -13,2 días, explicado por una caída de 25% a/a en inventarios y una disminución de 17% a/a en costos de ventas. El formato de Mejoramiento del Hogar registró una variación de -32,8 días, explicado por una disminución de 38% a/a en inventarios y una caída de 16% a/a en costos de ventas. El formato de Supermercados registró una variación de -15,7 días, explicado principalmente por una caída de 28% en inventarios, mientras que los costos de ventas decrecieron 6% a/a.\\nEn Perú, se registró una variación de -3,2 días, explicado por una disminución de 18% a/a en inventarios, mientras que los costos de ventas registraron una baja de 14% a/a. En Argentina, se registró una variación de -31,4 días, explicado por una disminución de 31% a/a en inventarios, mientras que los costos\\nde ventas registraron una disminución de 5% a/a. En Colombia, se registró una variación de +0,3 días, explicado por una disminución de 9% a/a en inventarios y en los costos de ventas. En Brasil, se registró una variación de +8,9 días, explicado por una disminución de 1% a/a en inventarios y de 8% a/a en costos de ventas.\\n28 Principales Definiciones Definiciones para Unidades de Negocios No Bancarios: 1. Clientes: Considera a una persona que realizó al menos una compra en nuestros retailers, vía online o en la tienda física, o una transacción en nuestros negocios bancarios en los últimos 12 meses.\\n2. Participantes Loyalty: Clientes que han acumulado puntos en los últimos 12 meses. Se consideran titulares CMR y clientes con otros medios de pago.\\n3. Ventas totales: Ventas totales corresponde al valor total de las mercaderías vendidas, incluidos los productos propios (1P) y de terceros (3P), a través de nuestra plataforma omnicanal (tiendas físicas y online). Incluye impuestos al valor agregado. Calculado con tipo de cambio neutral.\\n4. GMV: Ventas online brutas (Incluyendo IVA), y calculadas en base a tipo de cambio neutral, de los negocios Tiendas por Departamento en Chile, Perú , Colombia y Argentina; Mejoramiento del Hogar en Chile, Perú, Argentina, Brasil y Uruguay; Supermercados Chile y Perú, y los negocios de venta de productos de terceros.\\n5. Penetración online: Se calcula como el ratio de la venta bruta total del canal online sobre la venta bruta total del canal online más el canal físico.\\nDefiniciones para Unidades de Negocios Bancarios: 1. Depósitos a la vista: Depósitos en cuentas corrientes, cuentas vista, cuentas de ahorro y otras obligaciones a la vista 2. Otras obligaciones financieras:\\nInstrumentos de deuda emitidos, créditos de banco y otras obligaciones financieras.\\n3. Provisiones por riesgo de crédito: Gasto en provisión más castigo neto de recuperos.\\n4. Cartera vencida (90+ días): Cartera vencida es aquella en mora por más de 90 días.\\n5. Cuentas pasivas: Cuentas corrientes, cuentas vista y cuentas de ahorro con saldo.\\n6. Tarjetas con saldo: Número de tarjetas titulares con saldo, mora menor a 90 días y con uso en los últimos 24 meses.\\n7. Deuda promedio: Colocaciones brutas sobre las tarjetas con saldo.\\n8. Duration: Duración de Macaulay.\\n9. ATMs: Cantidad de cajeros automáticos propios.\\n10. Basilea: Patrimonio efectivo sobre los activos ponderados por riesgo, según el organismo regulador de cada país.\\n11. Eficiencia – Bancos: Gasto operacional sobre ingresos operacional.\\n12. ROAE – Bancos: Utilidad de los últimos 12 meses sobre el promedio simple del patrimonio de los últimos 5 trimestres.\\n13. ROAA – Bancos: Utilidad de los últimos 12 meses sobre el promedio simple de los activos de los últimos 5 trimestres.\\n\\\\ // aIc \\\\ &'"
      ]
     },
     "execution_count": 10,
     "metadata": {},
     "output_type": "execute_result"
    }
   ],
   "source": [
    "df[\"texto\"][0]"
   ]
  },
  {
   "cell_type": "code",
   "execution_count": 3,
   "metadata": {},
   "outputs": [],
   "source": [
    "from ibm_cloud_sdk_core.authenticators import IAMAuthenticator\n",
    "from ibm_watson import DiscoveryV2"
   ]
  },
  {
   "cell_type": "code",
   "execution_count": 13,
   "metadata": {},
   "outputs": [
    {
     "name": "stdout",
     "output_type": "stream",
     "text": [
      "8bd1a7c6-5daf-4b69-a9ef-377ad5344e62\n",
      "e519f857-5d5a-39bf-0000-018d7a7ce6e9\n"
     ]
    }
   ],
   "source": [
    "import os\n",
    "project_id = os.environ[\"PROJECT_ID\"]\n",
    "collection_id = os.environ[\"COLLECTION_ID\"]\n",
    "\n",
    "authenticator = IAMAuthenticator(\"6EKwQ3DwjeXO5RnsfvG8wAK8A0cVlN6xCReGeXKeeHNz\")\n",
    "\n",
    "\n",
    "# consultemos a discovery\n",
    "from ibm_watson import DiscoveryV2\n",
    "\n",
    "print(project_id)\n",
    "print(collection_id)\n",
    "\n",
    "\n",
    "discovery = DiscoveryV2(\n",
    "            version='2024-03-03',\n",
    "            authenticator=authenticator\n",
    "        )\n"
   ]
  },
  {
   "cell_type": "code",
   "execution_count": 18,
   "metadata": {},
   "outputs": [],
   "source": [
    "r = discovery.get_document(\n",
    "            project_id=project_id, \n",
    "            collection_id=collection_id,\n",
    "            document_id='906d4ed9-8b22-421e-8c80-de6e5db98f5e',\n",
    "        ).get_result()"
   ]
  },
  {
   "cell_type": "code",
   "execution_count": 19,
   "metadata": {},
   "outputs": [
    {
     "data": {
      "text/plain": [
       "{'document_id': '906d4ed9-8b22-421e-8c80-de6e5db98f5e',\n",
       " 'created': '2024-04-16T15:47:44.573Z',\n",
       " 'updated': '2024-04-16T15:52:49.685Z',\n",
       " 'status': 'available',\n",
       " 'notices': [],\n",
       " 'children': {'count': 0, 'have_notices': False},\n",
       " 'filename': 'Análisis_Razonado90749000_202309.pdf',\n",
       " 'file_type': 'pdf',\n",
       " 'sha256': '26a50f6bb0ddccd59209cc1708bf8b30221f9d55d6b6e946cce6092829631991'}"
      ]
     },
     "execution_count": 19,
     "metadata": {},
     "output_type": "execute_result"
    }
   ],
   "source": [
    "r"
   ]
  },
  {
   "cell_type": "code",
   "execution_count": null,
   "metadata": {},
   "outputs": [],
   "source": []
  }
 ],
 "metadata": {
  "kernelspec": {
   "display_name": "Python 3",
   "language": "python",
   "name": "python3"
  },
  "language_info": {
   "codemirror_mode": {
    "name": "ipython",
    "version": 3
   },
   "file_extension": ".py",
   "mimetype": "text/x-python",
   "name": "python",
   "nbconvert_exporter": "python",
   "pygments_lexer": "ipython3",
   "version": "3.10.0"
  }
 },
 "nbformat": 4,
 "nbformat_minor": 2
}
