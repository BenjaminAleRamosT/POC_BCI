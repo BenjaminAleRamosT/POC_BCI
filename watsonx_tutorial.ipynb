{
 "cells": [
  {
   "cell_type": "code",
   "execution_count": 5,
   "metadata": {},
   "outputs": [],
   "source": [
    "import yfinance as yf\n",
    "from datetime import datetime, timedelta\n",
    "import requests\n",
    "\n",
    "def OBTENER_DATOS_ULTIMA_SEMANA(symbol):\n",
    "    end_date = datetime.today()\n",
    "    start_date = end_date - timedelta(days=7)\n",
    "    data = yf.download(symbol, start=start_date, end=end_date)\n",
    "    return data['Adj Close'][-1] if len(data) > 0 else None\n",
    "\n",
    "def OBTENER_DATOS_ULTIMO_MES(symbol):\n",
    "    end_date = datetime.today()\n",
    "    start_date = end_date - timedelta(days=30)\n",
    "    data = yf.download(symbol, start=start_date, end=end_date)\n",
    "    return data['Adj Close'][-1] if len(data) > 0 else None\n",
    "\n",
    "def OBTENER_DATOS_ULTIMO_ANO(symbol):\n",
    "    end_date = datetime.today()\n",
    "    start_date = end_date - timedelta(days=365)\n",
    "    data = yf.download(symbol, start=start_date, end=end_date)\n",
    "    return data['Adj Close'][-1] if len(data) > 0 else None\n"
   ]
  },
  {
   "cell_type": "code",
   "execution_count": 6,
   "metadata": {},
   "outputs": [
    {
     "name": "stderr",
     "output_type": "stream",
     "text": [
      "[*********************100%%**********************]  1 of 1 completed\n"
     ]
    },
    {
     "data": {
      "text/plain": [
       "170.80990600585938"
      ]
     },
     "execution_count": 6,
     "metadata": {},
     "output_type": "execute_result"
    }
   ],
   "source": [
    "OBTENER_DATOS_ULTIMA_SEMANA('AAPL')"
   ]
  },
  {
   "cell_type": "markdown",
   "metadata": {},
   "source": [
    "# 1 Obtener `iam_token`"
   ]
  },
  {
   "cell_type": "code",
   "execution_count": 1,
   "metadata": {},
   "outputs": [],
   "source": [
    "import requests\n",
    "\n",
    "# Paste your Watson Machine Learning service apikey here\n",
    "apikey = \"5z1h-psruiL1HejXYzjOW0glrUC8CAGA4FEDXb_db1jF\"\n",
    "\n",
    "# Get an IAM token from IBM Cloud\n",
    "url = \"https://iam.cloud.ibm.com/identity/token\"\n",
    "headers = {\"Content-Type\": \"application/x-www-form-urlencoded\"}\n",
    "data = \"apikey=\" + apikey + \"&grant_type=urn:ibm:params:oauth:grant-type:apikey\"\n",
    "response = requests.post(url, headers=headers, data=data)\n",
    "iam_token = response.json()[\"access_token\"]\n"
   ]
  },
  {
   "cell_type": "code",
   "execution_count": 1,
   "metadata": {},
   "outputs": [
    {
     "name": "stdout",
     "output_type": "stream",
     "text": [
      "Collecting dotenv\n",
      "  Downloading dotenv-0.0.5.tar.gz (2.4 kB)\n",
      "  Preparing metadata (setup.py): started\n",
      "  Preparing metadata (setup.py): finished with status 'error'\n"
     ]
    },
    {
     "name": "stderr",
     "output_type": "stream",
     "text": [
      "  error: subprocess-exited-with-error\n",
      "  \n",
      "  × python setup.py egg_info did not run successfully.\n",
      "  │ exit code: 1\n",
      "  ╰─> [81 lines of output]\n",
      "      C:\\Users\\juanm\\data_science_env\\lib\\site-packages\\setuptools\\__init__.py:84: _DeprecatedInstaller: setuptools.installer and fetch_build_eggs are deprecated.\n",
      "      !!\n",
      "      \n",
      "              ********************************************************************************\n",
      "              Requirements should be satisfied by a PEP 517 installer.\n",
      "              If you are using pip, you can try `pip install --use-pep517`.\n",
      "              ********************************************************************************\n",
      "      \n",
      "      !!\n",
      "        dist.fetch_build_eggs(dist.setup_requires)\n",
      "        error: subprocess-exited-with-error\n",
      "      \n",
      "        Ã— python setup.py egg_info did not run successfully.\n",
      "        â”‚ exit code: 1\n",
      "        â•°â”€> [21 lines of output]\n",
      "            Traceback (most recent call last):\n",
      "              File \"<string>\", line 2, in <module>\n",
      "              File \"<pip-setuptools-caller>\", line 14, in <module>\n",
      "              File \"C:\\Users\\juanm\\AppData\\Local\\Temp\\pip-wheel-8x8viptj\\distribute_022c0564a162453d957dd769a94b57e4\\setuptools\\__init__.py\", line 2, in <module>\n",
      "                from setuptools.extension import Extension, Library\n",
      "              File \"C:\\Users\\juanm\\AppData\\Local\\Temp\\pip-wheel-8x8viptj\\distribute_022c0564a162453d957dd769a94b57e4\\setuptools\\extension.py\", line 5, in <module>\n",
      "                from setuptools.dist import _get_unpatched\n",
      "              File \"<frozen importlib._bootstrap>\", line 1027, in _find_and_load\n",
      "              File \"<frozen importlib._bootstrap>\", line 1006, in _find_and_load_unlocked\n",
      "              File \"<frozen importlib._bootstrap>\", line 688, in _load_unlocked\n",
      "              File \"C:\\Users\\juanm\\data_science_env\\lib\\site-packages\\_virtualenv.py\", line 90, in exec_module\n",
      "                old(module)\n",
      "              File \"C:\\Users\\juanm\\AppData\\Local\\Temp\\pip-wheel-8x8viptj\\distribute_022c0564a162453d957dd769a94b57e4\\setuptools\\dist.py\", line 7, in <module>\n",
      "                from setuptools.command.install import install\n",
      "              File \"C:\\Users\\juanm\\AppData\\Local\\Temp\\pip-wheel-8x8viptj\\distribute_022c0564a162453d957dd769a94b57e4\\setuptools\\command\\__init__.py\", line 8, in <module>\n",
      "                from setuptools.command import install_scripts\n",
      "              File \"C:\\Users\\juanm\\AppData\\Local\\Temp\\pip-wheel-8x8viptj\\distribute_022c0564a162453d957dd769a94b57e4\\setuptools\\command\\install_scripts.py\", line 3, in <module>\n",
      "                from pkg_resources import Distribution, PathMetadata, ensure_directory\n",
      "              File \"C:\\Users\\juanm\\AppData\\Local\\Temp\\pip-wheel-8x8viptj\\distribute_022c0564a162453d957dd769a94b57e4\\pkg_resources.py\", line 1518, in <module>\n",
      "                register_loader_type(importlib_bootstrap.SourceFileLoader, DefaultProvider)\n",
      "            AttributeError: module 'importlib._bootstrap' has no attribute 'SourceFileLoader'\n",
      "            [end of output]\n",
      "      \n",
      "        note: This error originates from a subprocess, and is likely not a problem with pip.\n",
      "      error: metadata-generation-failed\n",
      "      \n",
      "      Ã— Encountered error while generating package metadata.\n",
      "      â•°â”€> See above for output.\n",
      "      \n",
      "      note: This is an issue with the package mentioned above, not pip.\n",
      "      hint: See above for details.\n",
      "      Traceback (most recent call last):\n",
      "        File \"C:\\Users\\juanm\\data_science_env\\lib\\site-packages\\setuptools\\installer.py\", line 96, in _fetch_build_egg_no_warn\n",
      "          subprocess.check_call(cmd)\n",
      "        File \"C:\\Users\\juanm\\AppData\\Local\\Programs\\Python\\Python310\\lib\\subprocess.py\", line 369, in check_call\n",
      "          raise CalledProcessError(retcode, cmd)\n",
      "      subprocess.CalledProcessError: Command '['C:\\\\Users\\\\juanm\\\\data_science_env\\\\Scripts\\\\python.exe', '-m', 'pip', '--disable-pip-version-check', 'wheel', '--no-deps', '-w', 'C:\\\\Users\\\\juanm\\\\AppData\\\\Local\\\\Temp\\\\tmpd3_3acq0', '--quiet', 'distribute']' returned non-zero exit status 1.\n",
      "      \n",
      "      The above exception was the direct cause of the following exception:\n",
      "      \n",
      "      Traceback (most recent call last):\n",
      "        File \"<string>\", line 2, in <module>\n",
      "        File \"<pip-setuptools-caller>\", line 34, in <module>\n",
      "        File \"C:\\Users\\juanm\\AppData\\Local\\Temp\\pip-install-_lt0x25o\\dotenv_4b3c82bfc3e94a3f890bb42c72ebe2e9\\setup.py\", line 13, in <module>\n",
      "          setup(name='dotenv',\n",
      "        File \"C:\\Users\\juanm\\data_science_env\\lib\\site-packages\\setuptools\\__init__.py\", line 106, in setup\n",
      "          _install_setup_requires(attrs)\n",
      "        File \"C:\\Users\\juanm\\data_science_env\\lib\\site-packages\\setuptools\\__init__.py\", line 79, in _install_setup_requires\n",
      "          _fetch_build_eggs(dist)\n",
      "        File \"C:\\Users\\juanm\\data_science_env\\lib\\site-packages\\setuptools\\__init__.py\", line 84, in _fetch_build_eggs\n",
      "          dist.fetch_build_eggs(dist.setup_requires)\n",
      "        File \"C:\\Users\\juanm\\data_science_env\\lib\\site-packages\\setuptools\\dist.py\", line 917, in fetch_build_eggs\n",
      "          return _fetch_build_eggs(self, requires)\n",
      "        File \"C:\\Users\\juanm\\data_science_env\\lib\\site-packages\\setuptools\\installer.py\", line 38, in _fetch_build_eggs\n",
      "          resolved_dists = pkg_resources.working_set.resolve(\n",
      "        File \"C:\\Users\\juanm\\data_science_env\\lib\\site-packages\\pkg_resources\\__init__.py\", line 827, in resolve\n",
      "          dist = self._resolve_dist(\n",
      "        File \"C:\\Users\\juanm\\data_science_env\\lib\\site-packages\\pkg_resources\\__init__.py\", line 863, in _resolve_dist\n",
      "          dist = best[req.key] = env.best_match(\n",
      "        File \"C:\\Users\\juanm\\data_science_env\\lib\\site-packages\\pkg_resources\\__init__.py\", line 1133, in best_match\n",
      "          return self.obtain(req, installer)\n",
      "        File \"C:\\Users\\juanm\\data_science_env\\lib\\site-packages\\pkg_resources\\__init__.py\", line 1145, in obtain\n",
      "          return installer(requirement)\n",
      "        File \"C:\\Users\\juanm\\data_science_env\\lib\\site-packages\\setuptools\\installer.py\", line 98, in _fetch_build_egg_no_warn\n",
      "          raise DistutilsError(str(e)) from e\n",
      "      distutils.errors.DistutilsError: Command '['C:\\\\Users\\\\juanm\\\\data_science_env\\\\Scripts\\\\python.exe', '-m', 'pip', '--disable-pip-version-check', 'wheel', '--no-deps', '-w', 'C:\\\\Users\\\\juanm\\\\AppData\\\\Local\\\\Temp\\\\tmpd3_3acq0', '--quiet', 'distribute']' returned non-zero exit status 1.\n",
      "      [end of output]\n",
      "  \n",
      "  note: This error originates from a subprocess, and is likely not a problem with pip.\n",
      "error: metadata-generation-failed\n",
      "\n",
      "× Encountered error while generating package metadata.\n",
      "╰─> See above for output.\n",
      "\n",
      "note: This is an issue with the package mentioned above, not pip.\n",
      "hint: See above for details.\n",
      "\n",
      "[notice] A new release of pip is available: 23.1.2 -> 24.0\n",
      "[notice] To update, run: python.exe -m pip install --upgrade pip\n"
     ]
    }
   ],
   "source": [
    "!pip install dotenv"
   ]
  },
  {
   "cell_type": "code",
   "execution_count": 2,
   "metadata": {},
   "outputs": [
    {
     "data": {
      "text/plain": [
       "'eyJraWQiOiIyMDI0MDMwNjA4MzgiLCJhbGciOiJSUzI1NiJ9.eyJpYW1faWQiOiJJQk1pZC02OTIwMDA2QVpLIiwiaWQiOiJJQk1pZC02OTIwMDA2QVpLIiwicmVhbG1pZCI6IklCTWlkIiwianRpIjoiMDQ2YzIwYzAtNzYwMi00M2IyLTg5OTAtYWVhM2QyNmZhMGUyIiwiaWRlbnRpZmllciI6IjY5MjAwMDZBWksiLCJnaXZlbl9uYW1lIjoiSnVhbiBNYW51ZWwiLCJmYW1pbHlfbmFtZSI6IlphcGF0YSIsIm5hbWUiOiJKdWFuIE1hbnVlbCBaYXBhdGEiLCJlbWFpbCI6Imp1YW4uemFwYXRhQGdhdGhlci5jbCIsInN1YiI6Imp1YW4uemFwYXRhQGdhdGhlci5jbCIsImF1dGhuIjp7InN1YiI6Imp1YW4uemFwYXRhQGdhdGhlci5jbCIsImlhbV9pZCI6IklCTWlkLTY5MjAwMDZBWksiLCJuYW1lIjoiSnVhbiBNYW51ZWwgWmFwYXRhIiwiZ2l2ZW5fbmFtZSI6Ikp1YW4gTWFudWVsIiwiZmFtaWx5X25hbWUiOiJaYXBhdGEiLCJlbWFpbCI6Imp1YW4uemFwYXRhQGdhdGhlci5jbCJ9LCJhY2NvdW50Ijp7InZhbGlkIjp0cnVlLCJic3MiOiI4ZTliMzA2MjgxYTM0OTI0YjRmOWE1NjU0MWYyYTE4YSIsImltc191c2VyX2lkIjoiMTE1MDkwNDIiLCJmcm96ZW4iOnRydWUsImltcyI6IjI2OTA1NjkifSwiaWF0IjoxNzExNjM5OTY3LCJleHAiOjE3MTE2NDM1NjcsImlzcyI6Imh0dHBzOi8vaWFtLmNsb3VkLmlibS5jb20vaWRlbnRpdHkiLCJncmFudF90eXBlIjoidXJuOmlibTpwYXJhbXM6b2F1dGg6Z3JhbnQtdHlwZTphcGlrZXkiLCJzY29wZSI6ImlibSBvcGVuaWQiLCJjbGllbnRfaWQiOiJkZWZhdWx0IiwiYWNyIjoxLCJhbXIiOlsicHdkIl19.YUN50m0MjEB3UsDmrp9_h_gfWwXbuxnZGZDUgfgSj7fSFXLBN2H1fNZ8LAVX-jNui0DWiPOAi5PkUNJsK-bHCm4PwOUrRksv-hkzoTuFyWi34GxGL8ieDpDjovL5ssGeZ8Mr9xbupxHngnXryEvJHTuHAbxXCZm109z4o2CjpAKPijnIsJ1cOr75OS5fac2BCUyAPs9M11Cyb95IV3vzgXao1MZ6lzwuvQSquhC8SV3li-9jUVX16JaBHZ01DFvwSSNVpfffyNlIBcSuOv5OioCaDTtvBqxCY3GtYPWTnaWKzn2QZoF-GWsuGrSdSrsNWf2vaS3pGL-v38b7dWajsA'"
      ]
     },
     "execution_count": 2,
     "metadata": {},
     "output_type": "execute_result"
    }
   ],
   "source": [
    "iam_token"
   ]
  },
  {
   "cell_type": "markdown",
   "metadata": {},
   "source": [
    "# Hacer request y conexión con WatsonX"
   ]
  },
  {
   "cell_type": "code",
   "execution_count": null,
   "metadata": {},
   "outputs": [],
   "source": [
    "import requests\n",
    "\n",
    "url = \"https://us-south.ml.cloud.ibm.com/ml/v1/text/generation?version=2023-05-29\"\n",
    "\n",
    "body = {\n",
    "\t\"input\": \"\"\"[INST] <<SYS>>\n",
    "<|text 1 |>\n",
    "{name_1}: \\\"{{text_1}}\\\".\n",
    "\n",
    "<|text 2 |>\n",
    "{name_2}: \\\"{{text_2}}\\\".\n",
    "\n",
    "<|system|>\n",
    "Perform a comparison between '\\''{name_1}'\\'' and '\\''{name_2}'\\'', highlighting the key differences in both general and specific contents, including the type of document each text represents (e.g., financial statement, call transcript, interview format). Focus on significant statistical variations related to their temporal contexts, if available, and explicitly mention and compare statistical percentages when discussing increases or decreases. Present your findings in a format that emphasizes the crucial points of distinction without using titles or headings. Ensure that the comparison delves into how these differences contribute to the overall understanding of the context and implications of each summary. Assess the sentiment of each document concerning the highlights in the data of each document and contrast these analyses. The output must adhere strictly to the specified format, beginning each important point with '\\''->'\\'' and excluding titles or headings in favor of complete sentences. Use '\\''->'\\'' solely to mark the start of each key point, maintaining uniformity in the structure. Every key difference should form a complete sentence, devoid of titles or general concepts, and must be directly relevant to the article without introducing external information. Refrain from repeating key differences and always mention the document by its name. The output should be consistently translated into Spanish, and the summary should be coherent and aligned with the context of the documents.\n",
    "\n",
    "<|important|>\n",
    "- The output format must be identical to the OUTPUT FORMAT. Indicate with '\\''->'\\'' the beginning of each important point.\n",
    "- Do not add titles or headings, only complete sentences are allowed.\n",
    "- The characters '\\''->'\\'' should only be used to indicate the beginning of each key point. Do not use them elsewhere in the summary, and you cannot use another symbol to indicate the start of another point. All should be at the same level to respect the structure.\n",
    "- Each key difference must be a complete sentence; do not add titles or general concepts. You cannot divide a sentence into two key points, nor can you divide a key point into sub-points.\n",
    "- Each key difference must be relevant to the article.\n",
    "- You cannot add information that is not in the article. You can only extract information from the texts.\n",
    "- Do not repeat key differences.\n",
    "- Always refer to the document by its name.\n",
    "- The summary must be coherent and consistent with the context of the documents.\n",
    "- The output format of Verbose key differences don´t need to call all the time the name of the document, only the first time.\n",
    "- The output must always be translated into Spanish.\n",
    "\n",
    "<|output format|>\n",
    "**DIFERENCIAS:**\n",
    "-> <Verbose key difference 1>.\n",
    "-> <Verbose key difference 2>.\n",
    "-> <Verbose key difference 3>.\n",
    "-> <Verbose key difference 4>.\n",
    "-> <Verbose key difference 5>.\n",
    "-> ...\n",
    "\n",
    "-> **DOCUMENTO 1:**\n",
    "<Verbose content analysis of {name_1}>.\n",
    "\n",
    "-> **DOCUMENTO 2:**\n",
    "<Verbose content analysis of {name_2}>.\n",
    "\n",
    "#### RESUMEN DE LAS DIFERENCIAS:\n",
    "<Summary of differences content>.\n",
    "\n",
    "<|output|>\n",
    "<</SYS>>\n",
    "\n",
    "\n",
    "name_1 : Análisis_Razonado90749000_202309.pdf\n",
    "\n",
    "text_1: Los ingresos consolidados de la compañía cayeron un 9,6% a/a, principalmente debido a la disminución en los negocios de Mejoramiento del Hogar en Chile, Tiendas por Departamento en Chile y Negocios de Retail en Perú. En Chile, los ingresos de los formatos de retail disminuyeron un 15,3% a/a, con un impacto negativo en Mejoramiento del Hogar, Tiendas por Departamento y Supermercados. La venta online de retailers y sellers alcanzó MM\\$291.119 millones, con una caída del 16% a/a y una penetración online del 20%. Mallplaza registró un aumento del 16,9% a/a en ingresos debido a una mayor ocupación y la indexación a UF. En Perú, los ingresos de Mejoramiento del Hogar, Tiendas por Departamento y Supermercados experimentaron caídas, contrarrestadas parcialmente por el negocio bancario.\n",
    "\n",
    "En cuanto al resultado operacional, este fue de MM$64.877, un 3,1% menor que en el trimestre anterior, atribuido a la caída en la ganancia bruta consolidada. En Chile, el resultado operacional de los negocios retail fue una pérdida de MM$59.588, con un aumento del 170,2% a/a, principalmente por la caída en el margen de Mejoramiento del Hogar. En Banco Falabella Chile, el resultado operacional creció un 280,2%, alcanzando MM$49.942, debido a un aumento en la ganancia bruta por un menor costo por riesgo. En Perú, el resultado operacional fue de MM$42.592, con una disminución del 34,9% a/a, explicado por la caída en la ganancia bruta asociada a varios negocios. En Colombia, el resultado operacional fue una pérdida de MM$24.991, con una ganancia bruta impactada por un aumento en el costo por riesgo del negocio bancario.\n",
    "\n",
    "La pérdida neta del trimestre fue MM$4.642, representando una disminución del 72,6% con respecto al periodo comparable, con una menor contribución de algunos negocios compensada por el negocio inmobiliario. En cuanto a la deuda, el endeudamiento de los negocios no bancarios mostró una disminución del 7,7% en la deuda total bruta a MM$4.539.221 en septiembre de 2023, con una deuda neta de MM$3.597.044 y un ratio de endeudamiento neto de 1,0 veces. El patrimonio total aumentó en MM$222.031, principalmente por el resultado total del período y el incremento de las reservas por diferencias de cambio por conversión. La liquidez de la compañía al cierre de septiembre de 2023 fue de MM$2.165.067, con MM$649.839 en negocios no bancarios y MM$1.515.228 en negocios bancarios.\n",
    "\n",
    "name_2: Falabella SA Earnings Call 20231116 DN000000003027576234.pdf\n",
    "\n",
    "text_2: Falabella SA realizó su llamada de ganancias del tercer trimestre de 2023, donde participaron Alejandro Gonzalez Dale, Director Financiero; Andrea Gonzalez Bayon, Directora de Estrategia y Sostenibilidad; Gaston Bottazzini, CEO; y Raimundo Monge, Jefe de Relaciones con Inversores. Durante la presentación se destacó la apertura de seis tiendas en la región, incluyendo la primera tienda de IKEA en Colombia. Se observó una desaceleración en las tendencias de consumo y altos niveles de inflación que impactaron las operaciones, especialmente en las áreas de Mejoras para el Hogar y Grandes Tiendas en Chile, así como en el negocio minorista en Perú. Los ingresos de las Grandes Tiendas alcanzaron los \\$753 millones en el trimestre, mientras que la categoría Electro experimentó la mayor caída en ventas tanto en el canal físico como en línea. Los ingresos de Mejoras para el Hogar alcanzaron los \\$1.3 mil millones, con una disminución del 15%, y los ingresos de los Supermercados disminuyeron un 8%, alcanzando los \\$587 millones.\n",
    "\n",
    "En cuanto al lado bancario, Banco Falabella Chile se destacó como el principal emisor de tarjetas de crédito, con una cartera de préstamos que disminuyó un 9% interanual, alcanzando los $7 mil millones. El uso de tarjetas de crédito y débito aumentó un 3%, a pesar de un entorno de consumo desafiante. El programa de fidelización cuenta con casi 19 millones de participantes, y se implementaron medidas de eficiencia que generaron ahorros de $350 millones al año. Además, se anunció la venta de activos inmobiliarios no fundamentales por un monto estimado entre $800 millones y $1 mil millones, como parte de un plan para fortalecer la posición financiera de la empresa.\n",
    "\n",
    "En términos de ganancias, se mencionó que las ganancias brutas disminuyeron un 6% interanual, mientras que el EBITDA creció un 1% interanual, alcanzando los $202 millones. Los gastos de SG&A disminuyeron un 6% interanual, y la deuda financiera neta se redujo en un 5%. Se destacó un plan para aumentar la rentabilidad que incluye un enfoque en el CapEx hasta el 2024, mantener los ahorros logrados, mejorar los márgenes operativos y recaudar entre $800 millones y $1 mil millones de activos no estratégicos en un período de 12 a 15 meses. La estrategia de inversión de Falabella busca un equilibrio entre el crecimiento y la rentabilidad, con un enfoque en la gestión de márgenes y gastos generales y administrativos para lograr mejoras a pesar de las condiciones actuales de demanda. [/INST]\"\"\",\n",
    "\t\"parameters\": {\n",
    "\t\t\"decoding_method\": \"greedy\",\n",
    "\t\t\"max_new_tokens\": 4000,\n",
    "\t\t\"repetition_penalty\": 1\n",
    "\t},\n",
    "\t\"model_id\": \"meta-llama/llama-2-70b-chat\",\n",
    "\t\"project_id\": \"c4faff81-af63-4f31-820d-4e0bf3808f93\"\n",
    "}\n",
    "\n",
    "headers = {\n",
    "\t\"Accept\": \"application/json\",\n",
    "\t\"Content-Type\": \"application/json\",\n",
    "\t\"Authorization\": f\"Bearer {iam_token}\"\n",
    "}\n",
    "\n",
    "response = requests.post(\n",
    "\turl,\n",
    "\theaders=headers,\n",
    "\tjson=body\n",
    ")\n",
    "\n",
    "if response.status_code != 200:\n",
    "\traise Exception(\"Non-200 response: \" + str(response.text))\n",
    "\n",
    "data = response.json()"
   ]
  }
 ],
 "metadata": {
  "kernelspec": {
   "display_name": "Python 3",
   "language": "python",
   "name": "python3"
  },
  "language_info": {
   "codemirror_mode": {
    "name": "ipython",
    "version": 3
   },
   "file_extension": ".py",
   "mimetype": "text/x-python",
   "name": "python",
   "nbconvert_exporter": "python",
   "pygments_lexer": "ipython3",
   "version": "3.10.11"
  }
 },
 "nbformat": 4,
 "nbformat_minor": 2
}
